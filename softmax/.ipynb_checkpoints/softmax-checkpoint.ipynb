{
 "cells": [
  {
   "cell_type": "code",
   "execution_count": 1,
   "metadata": {
    "_cell_guid": "b1076dfc-b9ad-4769-8c92-a6c4dae69d19",
    "_kg_hide-output": true,
    "_uuid": "8f2839f25d086af736a60e9eeb907d3b93b6e0e5",
    "execution": {
     "iopub.execute_input": "2020-12-09T06:08:36.900363Z",
     "iopub.status.busy": "2020-12-09T06:08:36.899569Z",
     "iopub.status.idle": "2020-12-09T06:08:36.924118Z",
     "shell.execute_reply": "2020-12-09T06:08:36.924997Z"
    },
    "papermill": {
     "duration": 0.079886,
     "end_time": "2020-12-09T06:08:36.925272",
     "exception": false,
     "start_time": "2020-12-09T06:08:36.845386",
     "status": "completed"
    },
    "tags": []
   },
   "outputs": [],
   "source": [
    "# This Python 3 environment comes with many helpful analytics libraries installed\n",
    "# It is defined by the kaggle/python Docker image: https://github.com/kaggle/docker-python\n",
    "# For example, here's several helpful packages to load\n",
    "\n",
    "import numpy as np # linear algebra\n",
    "import pandas as pd # data processing, CSV file I/O (e.g. pd.read_csv)\n",
    "# Input data files are available in the read-only \"../input/\" directory\n",
    "# For example, running this (by clicking run or pressing Shift+Enter) will list all files under the input directory\n",
    "\n",
    "import os\n",
    "for dirname, _, filenames in os.walk('/kaggle/input'):\n",
    "    for filename in filenames:\n",
    "        print(os.path.join(dirname, filename))\n",
    "\n",
    "# You can write up to 20GB to the current directory (/kaggle/working/) that gets preserved as output when you create a version using \"Save & Run All\" \n",
    "# You can also write temporary files to /kaggle/temp/, but they won't be saved outside of the current session"
   ]
  },
  {
   "cell_type": "code",
   "execution_count": 2,
   "metadata": {
    "_cell_guid": "79c7e3d0-c299-4dcb-8224-4455121ee9b0",
    "_uuid": "d629ff2d2480ee46fbb7e2d37f6b5fab8052498a",
    "execution": {
     "iopub.execute_input": "2020-12-09T06:08:37.032657Z",
     "iopub.status.busy": "2020-12-09T06:08:37.031880Z",
     "iopub.status.idle": "2020-12-09T06:08:37.140236Z",
     "shell.execute_reply": "2020-12-09T06:08:37.139555Z"
    },
    "papermill": {
     "duration": 0.165172,
     "end_time": "2020-12-09T06:08:37.140355",
     "exception": false,
     "start_time": "2020-12-09T06:08:36.975183",
     "status": "completed"
    },
    "tags": []
   },
   "outputs": [],
   "source": [
    "# Load user, ratings, and movie data\n",
    "users_cols = ['user_id', 'age', 'sex', 'occupation', 'zip_code']\n",
    "users = pd.read_csv(\n",
    "    'ml-100k/u.user', sep='|', names=users_cols, encoding='latin-1')\n",
    "\n",
    "ratings_cols = ['user_id', 'movie_id', 'rating', 'unix_timestamp']\n",
    "ratings = pd.read_csv(\n",
    "    'ml-100k/u.data', sep='\\t', names=ratings_cols, encoding='latin-1')\n",
    "\n",
    "# The movies file contains a binary feature for each genre.\n",
    "genre_cols = [\n",
    "    \"genre_unknown\", \"Action\", \"Adventure\", \"Animation\", \"Children\", \"Comedy\",\n",
    "    \"Crime\", \"Documentary\", \"Drama\", \"Fantasy\", \"Film-Noir\", \"Horror\",\n",
    "    \"Musical\", \"Mystery\", \"Romance\", \"Sci-Fi\", \"Thriller\", \"War\", \"Western\"\n",
    "]\n",
    "movies_cols = [\n",
    "    'movie_id', 'title', 'release_date', \"video_release_date\", \"imdb_url\"\n",
    "] + genre_cols\n",
    "movies = pd.read_csv('ml-100k/u.item', sep='|', names=movies_cols, encoding='latin-1')"
   ]
  },
  {
   "cell_type": "code",
   "execution_count": 3,
   "metadata": {
    "execution": {
     "iopub.execute_input": "2020-12-09T06:08:37.252393Z",
     "iopub.status.busy": "2020-12-09T06:08:37.251738Z",
     "iopub.status.idle": "2020-12-09T06:08:37.255412Z",
     "shell.execute_reply": "2020-12-09T06:08:37.254796Z"
    },
    "papermill": {
     "duration": 0.068514,
     "end_time": "2020-12-09T06:08:37.255529",
     "exception": false,
     "start_time": "2020-12-09T06:08:37.187015",
     "status": "completed"
    },
    "tags": []
   },
   "outputs": [
    {
     "data": {
      "text/plain": [
       "<bound method NDFrame.head of        user_id  movie_id  rating  unix_timestamp\n",
       "0          196       242       3       881250949\n",
       "1          186       302       3       891717742\n",
       "2           22       377       1       878887116\n",
       "3          244        51       2       880606923\n",
       "4          166       346       1       886397596\n",
       "...        ...       ...     ...             ...\n",
       "99995      880       476       3       880175444\n",
       "99996      716       204       5       879795543\n",
       "99997      276      1090       1       874795795\n",
       "99998       13       225       2       882399156\n",
       "99999       12       203       3       879959583\n",
       "\n",
       "[100000 rows x 4 columns]>"
      ]
     },
     "execution_count": 3,
     "metadata": {},
     "output_type": "execute_result"
    }
   ],
   "source": [
    "ratings.head"
   ]
  },
  {
   "cell_type": "code",
   "execution_count": 4,
   "metadata": {
    "execution": {
     "iopub.execute_input": "2020-12-09T06:08:37.357773Z",
     "iopub.status.busy": "2020-12-09T06:08:37.357096Z",
     "iopub.status.idle": "2020-12-09T06:08:37.360687Z",
     "shell.execute_reply": "2020-12-09T06:08:37.360052Z"
    },
    "papermill": {
     "duration": 0.057395,
     "end_time": "2020-12-09T06:08:37.360800",
     "exception": false,
     "start_time": "2020-12-09T06:08:37.303405",
     "status": "completed"
    },
    "tags": []
   },
   "outputs": [
    {
     "data": {
      "text/plain": [
       "user_id           int64\n",
       "movie_id          int64\n",
       "rating            int64\n",
       "unix_timestamp    int64\n",
       "dtype: object"
      ]
     },
     "execution_count": 4,
     "metadata": {},
     "output_type": "execute_result"
    }
   ],
   "source": [
    "ratings.dtypes"
   ]
  },
  {
   "cell_type": "markdown",
   "metadata": {
    "papermill": {
     "duration": 0.048087,
     "end_time": "2020-12-09T06:08:37.457259",
     "exception": false,
     "start_time": "2020-12-09T06:08:37.409172",
     "status": "completed"
    },
    "tags": []
   },
   "source": [
    "# Get user input query"
   ]
  },
  {
   "cell_type": "code",
   "execution_count": 5,
   "metadata": {
    "execution": {
     "iopub.execute_input": "2020-12-09T06:08:37.557662Z",
     "iopub.status.busy": "2020-12-09T06:08:37.556961Z",
     "iopub.status.idle": "2020-12-09T06:08:37.570947Z",
     "shell.execute_reply": "2020-12-09T06:08:37.571506Z"
    },
    "papermill": {
     "duration": 0.066187,
     "end_time": "2020-12-09T06:08:37.571651",
     "exception": false,
     "start_time": "2020-12-09T06:08:37.505464",
     "status": "completed"
    },
    "tags": []
   },
   "outputs": [],
   "source": [
    "input_query_df = pd.read_csv(\"Movielens (Responses) - Form Responses 1.csv\")\n",
    "query_len = len(input_query_df)\n",
    "\n",
    "# Only get the latest response\n",
    "input_query_df = input_query_df[-1:]"
   ]
  },
  {
   "cell_type": "code",
   "execution_count": 6,
   "metadata": {
    "execution": {
     "iopub.execute_input": "2020-12-09T06:08:37.671269Z",
     "iopub.status.busy": "2020-12-09T06:08:37.670627Z",
     "iopub.status.idle": "2020-12-09T06:08:37.681313Z",
     "shell.execute_reply": "2020-12-09T06:08:37.681930Z"
    },
    "papermill": {
     "duration": 0.062198,
     "end_time": "2020-12-09T06:08:37.682076",
     "exception": false,
     "start_time": "2020-12-09T06:08:37.619878",
     "status": "completed"
    },
    "tags": []
   },
   "outputs": [
    {
     "name": "stdout",
     "output_type": "stream",
     "text": [
      "{'Toy Story (1995)': {1: '1 - Hated it'}, 'Twelve Monkeys (1995)': {1: '5 - Loved it'}, 'Star Wars (1977)': {1: '5 - Loved it'}, 'Pulp Fiction (1994)': {1: '3 - Neutral'}, 'Silence of the Lambs, The (1991)': {1: '5 - Loved it'}, 'Fargo (1996)': {1: '5 - Loved it'}, 'Independence Day (ID4) (1996)': {1: '5 - Loved it'}, 'Godfather, The (1972)': {1: '5 - Loved it'}, 'Raiders of the Lost Ark (1981)': {1: '5 - Loved it'}, 'Return of the Jedi (1983)': {1: \"2 - Didn't like it\"}, 'Contact (1997)': {1: '5 - Loved it'}, 'English Patient, The (1996)': {1: '3 - Neutral'}, 'Scream (1996)': {1: '5 - Loved it'}, 'Liar Liar (1997)': {1: '3 - Neutral'}, 'Air Force One (1997)': {1: '5 - Loved it'}}\n"
     ]
    }
   ],
   "source": [
    "# Only keep movies and ratings in dataframe\n",
    "input_genres_df = input_query_df['Out of all of the genres below, what are your top 3 favorites?']\n",
    "input_query_df = input_query_df.drop(['Out of all of the genres below, what are your top 3 favorites?', 'Timestamp'], axis = 1)\n",
    "input_query = input_query_df.to_dict()\n",
    "print(input_query)"
   ]
  },
  {
   "cell_type": "code",
   "execution_count": 7,
   "metadata": {
    "execution": {
     "iopub.execute_input": "2020-12-09T06:08:37.782916Z",
     "iopub.status.busy": "2020-12-09T06:08:37.782218Z",
     "iopub.status.idle": "2020-12-09T06:08:37.806034Z",
     "shell.execute_reply": "2020-12-09T06:08:37.805409Z"
    },
    "papermill": {
     "duration": 0.07529,
     "end_time": "2020-12-09T06:08:37.806143",
     "exception": false,
     "start_time": "2020-12-09T06:08:37.730853",
     "status": "completed"
    },
    "tags": []
   },
   "outputs": [
    {
     "name": "stdout",
     "output_type": "stream",
     "text": [
      "{1: 1, 7: 5, 50: 5, 56: 3, 98: 5, 100: 5, 121: 5, 127: 5, 174: 5, 181: 2, 258: 5, 286: 3, 288: 5, 294: 3, 300: 5}\n"
     ]
    }
   ],
   "source": [
    "# Turn into dict{movie_id: rating}\n",
    "input_ratings = {}\n",
    "possible_ratings = ['1', '2', '3', '4', '5']\n",
    "for movie in input_query:\n",
    "    rating = input_query[movie][query_len-1]\n",
    "    title_row = movies.loc[movies['title'] == movie]\n",
    "    title_row\n",
    "    movie_id = title_row.iloc[0]['movie_id']\n",
    "    if rating[0] in possible_ratings:\n",
    "        input_ratings[movie_id] = int(rating[0])\n",
    "    \n",
    "\n",
    "print(input_ratings)"
   ]
  },
  {
   "cell_type": "code",
   "execution_count": 8,
   "metadata": {
    "execution": {
     "iopub.execute_input": "2020-12-09T06:08:37.909334Z",
     "iopub.status.busy": "2020-12-09T06:08:37.908500Z",
     "iopub.status.idle": "2020-12-09T06:08:37.914769Z",
     "shell.execute_reply": "2020-12-09T06:08:37.915244Z"
    },
    "papermill": {
     "duration": 0.060085,
     "end_time": "2020-12-09T06:08:37.915399",
     "exception": false,
     "start_time": "2020-12-09T06:08:37.855314",
     "status": "completed"
    },
    "tags": []
   },
   "outputs": [
    {
     "name": "stdout",
     "output_type": "stream",
     "text": [
      "['Adventure', ' Crime', ' Drama']\n"
     ]
    }
   ],
   "source": [
    "# Get user input's top 3 favorite genres\n",
    "input_genres = input_genres_df.values.tolist()[0].split(',')\n",
    "print(input_genres)"
   ]
  },
  {
   "cell_type": "markdown",
   "metadata": {
    "papermill": {
     "duration": 0.050333,
     "end_time": "2020-12-09T06:08:38.015361",
     "exception": false,
     "start_time": "2020-12-09T06:08:37.965028",
     "status": "completed"
    },
    "tags": []
   },
   "source": [
    "# Add new user to dataset"
   ]
  },
  {
   "cell_type": "code",
   "execution_count": 9,
   "metadata": {
    "execution": {
     "iopub.execute_input": "2020-12-09T06:08:38.118103Z",
     "iopub.status.busy": "2020-12-09T06:08:38.117476Z",
     "iopub.status.idle": "2020-12-09T06:08:38.149669Z",
     "shell.execute_reply": "2020-12-09T06:08:38.150141Z"
    },
    "papermill": {
     "duration": 0.085212,
     "end_time": "2020-12-09T06:08:38.150324",
     "exception": false,
     "start_time": "2020-12-09T06:08:38.065112",
     "status": "completed"
    },
    "tags": []
   },
   "outputs": [
    {
     "data": {
      "text/html": [
       "<div>\n",
       "<style scoped>\n",
       "    .dataframe tbody tr th:only-of-type {\n",
       "        vertical-align: middle;\n",
       "    }\n",
       "\n",
       "    .dataframe tbody tr th {\n",
       "        vertical-align: top;\n",
       "    }\n",
       "\n",
       "    .dataframe thead th {\n",
       "        text-align: right;\n",
       "    }\n",
       "</style>\n",
       "<table border=\"1\" class=\"dataframe\">\n",
       "  <thead>\n",
       "    <tr style=\"text-align: right;\">\n",
       "      <th></th>\n",
       "      <th>user_id</th>\n",
       "      <th>movie_id</th>\n",
       "      <th>rating</th>\n",
       "      <th>unix_timestamp</th>\n",
       "    </tr>\n",
       "  </thead>\n",
       "  <tbody>\n",
       "    <tr>\n",
       "      <th>0</th>\n",
       "      <td>944</td>\n",
       "      <td>1</td>\n",
       "      <td>5</td>\n",
       "      <td>0</td>\n",
       "    </tr>\n",
       "    <tr>\n",
       "      <th>1</th>\n",
       "      <td>944</td>\n",
       "      <td>8</td>\n",
       "      <td>5</td>\n",
       "      <td>0</td>\n",
       "    </tr>\n",
       "    <tr>\n",
       "      <th>2</th>\n",
       "      <td>944</td>\n",
       "      <td>63</td>\n",
       "      <td>5</td>\n",
       "      <td>0</td>\n",
       "    </tr>\n",
       "    <tr>\n",
       "      <th>3</th>\n",
       "      <td>944</td>\n",
       "      <td>71</td>\n",
       "      <td>5</td>\n",
       "      <td>0</td>\n",
       "    </tr>\n",
       "    <tr>\n",
       "      <th>4</th>\n",
       "      <td>944</td>\n",
       "      <td>35</td>\n",
       "      <td>5</td>\n",
       "      <td>0</td>\n",
       "    </tr>\n",
       "    <tr>\n",
       "      <th>5</th>\n",
       "      <td>944</td>\n",
       "      <td>1531</td>\n",
       "      <td>5</td>\n",
       "      <td>0</td>\n",
       "    </tr>\n",
       "    <tr>\n",
       "      <th>6</th>\n",
       "      <td>944</td>\n",
       "      <td>1540</td>\n",
       "      <td>5</td>\n",
       "      <td>0</td>\n",
       "    </tr>\n",
       "    <tr>\n",
       "      <th>7</th>\n",
       "      <td>944</td>\n",
       "      <td>91</td>\n",
       "      <td>5</td>\n",
       "      <td>0</td>\n",
       "    </tr>\n",
       "    <tr>\n",
       "      <th>8</th>\n",
       "      <td>944</td>\n",
       "      <td>94</td>\n",
       "      <td>5</td>\n",
       "      <td>0</td>\n",
       "    </tr>\n",
       "    <tr>\n",
       "      <th>9</th>\n",
       "      <td>944</td>\n",
       "      <td>95</td>\n",
       "      <td>5</td>\n",
       "      <td>0</td>\n",
       "    </tr>\n",
       "    <tr>\n",
       "      <th>10</th>\n",
       "      <td>196</td>\n",
       "      <td>242</td>\n",
       "      <td>3</td>\n",
       "      <td>881250949</td>\n",
       "    </tr>\n",
       "    <tr>\n",
       "      <th>11</th>\n",
       "      <td>186</td>\n",
       "      <td>302</td>\n",
       "      <td>3</td>\n",
       "      <td>891717742</td>\n",
       "    </tr>\n",
       "    <tr>\n",
       "      <th>12</th>\n",
       "      <td>22</td>\n",
       "      <td>377</td>\n",
       "      <td>1</td>\n",
       "      <td>878887116</td>\n",
       "    </tr>\n",
       "    <tr>\n",
       "      <th>13</th>\n",
       "      <td>244</td>\n",
       "      <td>51</td>\n",
       "      <td>2</td>\n",
       "      <td>880606923</td>\n",
       "    </tr>\n",
       "    <tr>\n",
       "      <th>14</th>\n",
       "      <td>166</td>\n",
       "      <td>346</td>\n",
       "      <td>1</td>\n",
       "      <td>886397596</td>\n",
       "    </tr>\n",
       "    <tr>\n",
       "      <th>15</th>\n",
       "      <td>298</td>\n",
       "      <td>474</td>\n",
       "      <td>4</td>\n",
       "      <td>884182806</td>\n",
       "    </tr>\n",
       "    <tr>\n",
       "      <th>16</th>\n",
       "      <td>115</td>\n",
       "      <td>265</td>\n",
       "      <td>2</td>\n",
       "      <td>881171488</td>\n",
       "    </tr>\n",
       "    <tr>\n",
       "      <th>17</th>\n",
       "      <td>253</td>\n",
       "      <td>465</td>\n",
       "      <td>5</td>\n",
       "      <td>891628467</td>\n",
       "    </tr>\n",
       "    <tr>\n",
       "      <th>18</th>\n",
       "      <td>305</td>\n",
       "      <td>451</td>\n",
       "      <td>3</td>\n",
       "      <td>886324817</td>\n",
       "    </tr>\n",
       "    <tr>\n",
       "      <th>19</th>\n",
       "      <td>6</td>\n",
       "      <td>86</td>\n",
       "      <td>3</td>\n",
       "      <td>883603013</td>\n",
       "    </tr>\n",
       "  </tbody>\n",
       "</table>\n",
       "</div>"
      ],
      "text/plain": [
       "    user_id  movie_id  rating  unix_timestamp\n",
       "0       944         1       5               0\n",
       "1       944         8       5               0\n",
       "2       944        63       5               0\n",
       "3       944        71       5               0\n",
       "4       944        35       5               0\n",
       "5       944      1531       5               0\n",
       "6       944      1540       5               0\n",
       "7       944        91       5               0\n",
       "8       944        94       5               0\n",
       "9       944        95       5               0\n",
       "10      196       242       3       881250949\n",
       "11      186       302       3       891717742\n",
       "12       22       377       1       878887116\n",
       "13      244        51       2       880606923\n",
       "14      166       346       1       886397596\n",
       "15      298       474       4       884182806\n",
       "16      115       265       2       881171488\n",
       "17      253       465       5       891628467\n",
       "18      305       451       3       886324817\n",
       "19        6        86       3       883603013"
      ]
     },
     "execution_count": 9,
     "metadata": {},
     "output_type": "execute_result"
    }
   ],
   "source": [
    "# Add to ratings\n",
    "\n",
    "new_user = '944'\n",
    "\n",
    "user = ['944'] * 10\n",
    "input_movies = []\n",
    "input_ratings = [5] * 10\n",
    "input_time = [0] * 10\n",
    "\n",
    "# Sample: all children's movies\n",
    "input_movies.append(\"1\")\n",
    "input_movies.append(\"8\")\n",
    "input_movies.append(\"63\")\n",
    "input_movies.append(\"71\")\n",
    "input_movies.append(\"35\")\n",
    "input_movies.append(\"1531\")\n",
    "input_movies.append(\"1540\")\n",
    "input_movies.append(\"91\")\n",
    "input_movies.append(\"94\")\n",
    "input_movies.append(\"95\")\n",
    "\n",
    "# # Append to ratings\n",
    "new_ratings = {'user_id':user, 'movie_id': input_movies, 'rating': input_ratings, 'unix_timestamp': input_time}\n",
    "add_ratings = pd.DataFrame(data = new_ratings)\n",
    "add_ratings['user_id'] = add_ratings['user_id'].astype(int)\n",
    "add_ratings['movie_id'] = add_ratings['movie_id'].astype(int)\n",
    "# ratings = ratings.append(add_ratings, ignore_index = True)\n",
    "ratings = pd.concat([add_ratings, ratings]).reset_index(drop = True)\n",
    "ratings.head(20)\n"
   ]
  },
  {
   "cell_type": "code",
   "execution_count": 10,
   "metadata": {
    "execution": {
     "iopub.execute_input": "2020-12-09T06:08:38.255313Z",
     "iopub.status.busy": "2020-12-09T06:08:38.254631Z",
     "iopub.status.idle": "2020-12-09T06:08:38.259013Z",
     "shell.execute_reply": "2020-12-09T06:08:38.259582Z"
    },
    "papermill": {
     "duration": 0.058865,
     "end_time": "2020-12-09T06:08:38.259725",
     "exception": false,
     "start_time": "2020-12-09T06:08:38.200860",
     "status": "completed"
    },
    "tags": []
   },
   "outputs": [
    {
     "data": {
      "text/plain": [
       "(100010, 4)"
      ]
     },
     "execution_count": 10,
     "metadata": {},
     "output_type": "execute_result"
    }
   ],
   "source": [
    "#ratings.drop(ratings.tail(10).index,inplace=True)\n",
    "ratings.shape"
   ]
  },
  {
   "cell_type": "code",
   "execution_count": 11,
   "metadata": {
    "execution": {
     "iopub.execute_input": "2020-12-09T06:08:38.365324Z",
     "iopub.status.busy": "2020-12-09T06:08:38.364306Z",
     "iopub.status.idle": "2020-12-09T06:08:38.468815Z",
     "shell.execute_reply": "2020-12-09T06:08:38.467793Z"
    },
    "papermill": {
     "duration": 0.15842,
     "end_time": "2020-12-09T06:08:38.468993",
     "exception": false,
     "start_time": "2020-12-09T06:08:38.310573",
     "status": "completed"
    },
    "tags": []
   },
   "outputs": [
    {
     "name": "stdout",
     "output_type": "stream",
     "text": [
      "   movie_id             title release_date  video_release_date  \\\n",
      "0         1  Toy Story (1995)  01-Jan-1995                 NaN   \n",
      "\n",
      "                                            imdb_url  genre_unknown  Action  \\\n",
      "0  http://us.imdb.com/M/title-exact?Toy%20Story%2...              0       0   \n",
      "\n",
      "   Adventure  Animation  Children  ...  Fantasy  Film-Noir  Horror  Musical  \\\n",
      "0          0          1         1  ...        0          0       0        0   \n",
      "\n",
      "   Mystery  Romance  Sci-Fi  Thriller  War  Western  \n",
      "0        0        0       0         0    0        0  \n",
      "\n",
      "[1 rows x 24 columns]\n",
      "   movie_id        title release_date  video_release_date  \\\n",
      "7         8  Babe (1995)  01-Jan-1995                 NaN   \n",
      "\n",
      "                                         imdb_url  genre_unknown  Action  \\\n",
      "7  http://us.imdb.com/M/title-exact?Babe%20(1995)              0       0   \n",
      "\n",
      "   Adventure  Animation  Children  ...  Fantasy  Film-Noir  Horror  Musical  \\\n",
      "7          0          0         1  ...        0          0       0        0   \n",
      "\n",
      "   Mystery  Romance  Sci-Fi  Thriller  War  Western  \n",
      "7        0        0       0         0    0        0  \n",
      "\n",
      "[1 rows x 24 columns]\n",
      "    movie_id                     title release_date  video_release_date  \\\n",
      "62        63  Santa Clause, The (1994)  01-Jan-1994                 NaN   \n",
      "\n",
      "                                             imdb_url  genre_unknown  Action  \\\n",
      "62  http://us.imdb.com/M/title-exact?Santa%20Claus...              0       0   \n",
      "\n",
      "    Adventure  Animation  Children  ...  Fantasy  Film-Noir  Horror  Musical  \\\n",
      "62          0          0         1  ...        0          0       0        0   \n",
      "\n",
      "    Mystery  Romance  Sci-Fi  Thriller  War  Western  \n",
      "62        0        0       0         0    0        0  \n",
      "\n",
      "[1 rows x 24 columns]\n",
      "    movie_id                  title release_date  video_release_date  \\\n",
      "70        71  Lion King, The (1994)  01-Jan-1994                 NaN   \n",
      "\n",
      "                                             imdb_url  genre_unknown  Action  \\\n",
      "70  http://us.imdb.com/M/title-exact?Lion%20King,%...              0       0   \n",
      "\n",
      "    Adventure  Animation  Children  ...  Fantasy  Film-Noir  Horror  Musical  \\\n",
      "70          0          1         1  ...        0          0       0        1   \n",
      "\n",
      "    Mystery  Romance  Sci-Fi  Thriller  War  Western  \n",
      "70        0        0       0         0    0        0  \n",
      "\n",
      "[1 rows x 24 columns]\n",
      "    movie_id                                    title release_date  \\\n",
      "34        35  Free Willy 2: The Adventure Home (1995)  01-Jan-1995   \n",
      "\n",
      "    video_release_date                                           imdb_url  \\\n",
      "34                 NaN  http://us.imdb.com/M/title-exact?Free%20Willy%...   \n",
      "\n",
      "    genre_unknown  Action  Adventure  Animation  Children  ...  Fantasy  \\\n",
      "34              0       0          1          0         1  ...        0   \n",
      "\n",
      "    Film-Noir  Horror  Musical  Mystery  Romance  Sci-Fi  Thriller  War  \\\n",
      "34          0       0        0        0        0       0         0    0   \n",
      "\n",
      "    Western  \n",
      "34        0  \n",
      "\n",
      "[1 rows x 24 columns]\n",
      "      movie_id                                              title  \\\n",
      "1530      1531  Far From Home: The Adventures of Yellow Dog (1...   \n",
      "\n",
      "     release_date  video_release_date  \\\n",
      "1530  01-Jan-1995                 NaN   \n",
      "\n",
      "                                               imdb_url  genre_unknown  \\\n",
      "1530  http://us.imdb.com/M/title-exact?Far%20From%20...              0   \n",
      "\n",
      "      Action  Adventure  Animation  Children  ...  Fantasy  Film-Noir  Horror  \\\n",
      "1530       0          1          0         1  ...        0          0       0   \n",
      "\n",
      "      Musical  Mystery  Romance  Sci-Fi  Thriller  War  Western  \n",
      "1530        0        0        0       0         0    0        0  \n",
      "\n",
      "[1 rows x 24 columns]\n",
      "      movie_id                                title release_date  \\\n",
      "1539      1540  Amazing Panda Adventure, The (1995)  01-Jan-1995   \n",
      "\n",
      "      video_release_date                                           imdb_url  \\\n",
      "1539                 NaN  http://us.imdb.com/M/title-exact?Amazing%20Pan...   \n",
      "\n",
      "      genre_unknown  Action  Adventure  Animation  Children  ...  Fantasy  \\\n",
      "1539              0       0          1          0         1  ...        0   \n",
      "\n",
      "      Film-Noir  Horror  Musical  Mystery  Romance  Sci-Fi  Thriller  War  \\\n",
      "1539          0       0        0        0        0       0         0    0   \n",
      "\n",
      "      Western  \n",
      "1539        0  \n",
      "\n",
      "[1 rows x 24 columns]\n",
      "    movie_id                                   title release_date  \\\n",
      "90        91  Nightmare Before Christmas, The (1993)  01-Jan-1993   \n",
      "\n",
      "    video_release_date                                           imdb_url  \\\n",
      "90                 NaN  http://us.imdb.com/M/title-exact?Nightmare%20B...   \n",
      "\n",
      "    genre_unknown  Action  Adventure  Animation  Children  ...  Fantasy  \\\n",
      "90              0       0          0          0         1  ...        0   \n",
      "\n",
      "    Film-Noir  Horror  Musical  Mystery  Romance  Sci-Fi  Thriller  War  \\\n",
      "90          0       0        1        0        0       0         0    0   \n",
      "\n",
      "    Western  \n",
      "90        0  \n",
      "\n",
      "[1 rows x 24 columns]\n",
      "    movie_id              title release_date  video_release_date  \\\n",
      "93        94  Home Alone (1990)  01-Jan-1990                 NaN   \n",
      "\n",
      "                                             imdb_url  genre_unknown  Action  \\\n",
      "93  http://us.imdb.com/M/title-exact?Home%20Alone%...              0       0   \n",
      "\n",
      "    Adventure  Animation  Children  ...  Fantasy  Film-Noir  Horror  Musical  \\\n",
      "93          0          0         1  ...        0          0       0        0   \n",
      "\n",
      "    Mystery  Romance  Sci-Fi  Thriller  War  Western  \n",
      "93        0        0       0         0    0        0  \n",
      "\n",
      "[1 rows x 24 columns]\n",
      "    movie_id           title release_date  video_release_date  \\\n",
      "94        95  Aladdin (1992)  01-Jan-1992                 NaN   \n",
      "\n",
      "                                             imdb_url  genre_unknown  Action  \\\n",
      "94  http://us.imdb.com/M/title-exact?Aladdin%20(1992)              0       0   \n",
      "\n",
      "    Adventure  Animation  Children  ...  Fantasy  Film-Noir  Horror  Musical  \\\n",
      "94          0          1         1  ...        0          0       0        1   \n",
      "\n",
      "    Mystery  Romance  Sci-Fi  Thriller  War  Western  \n",
      "94        0        0       0         0    0        0  \n",
      "\n",
      "[1 rows x 24 columns]\n"
     ]
    }
   ],
   "source": [
    "# Look up title row for children's\n",
    "for movie in input_movies:\n",
    "    kids_row = movies.loc[movies['movie_id'] == int(movie)]\n",
    "    print(kids_row)"
   ]
  },
  {
   "cell_type": "code",
   "execution_count": 12,
   "metadata": {
    "execution": {
     "iopub.execute_input": "2020-12-09T06:08:38.601412Z",
     "iopub.status.busy": "2020-12-09T06:08:38.594054Z",
     "iopub.status.idle": "2020-12-09T06:08:38.614560Z",
     "shell.execute_reply": "2020-12-09T06:08:38.615047Z"
    },
    "papermill": {
     "duration": 0.093358,
     "end_time": "2020-12-09T06:08:38.615216",
     "exception": false,
     "start_time": "2020-12-09T06:08:38.521858",
     "status": "completed"
    },
    "tags": []
   },
   "outputs": [
    {
     "data": {
      "text/html": [
       "<div>\n",
       "<style scoped>\n",
       "    .dataframe tbody tr th:only-of-type {\n",
       "        vertical-align: middle;\n",
       "    }\n",
       "\n",
       "    .dataframe tbody tr th {\n",
       "        vertical-align: top;\n",
       "    }\n",
       "\n",
       "    .dataframe thead th {\n",
       "        text-align: right;\n",
       "    }\n",
       "</style>\n",
       "<table border=\"1\" class=\"dataframe\">\n",
       "  <thead>\n",
       "    <tr style=\"text-align: right;\">\n",
       "      <th></th>\n",
       "      <th>movie_id</th>\n",
       "      <th>title</th>\n",
       "      <th>release_date</th>\n",
       "      <th>video_release_date</th>\n",
       "      <th>imdb_url</th>\n",
       "      <th>genre_unknown</th>\n",
       "      <th>Action</th>\n",
       "      <th>Adventure</th>\n",
       "      <th>Animation</th>\n",
       "      <th>Children</th>\n",
       "      <th>...</th>\n",
       "      <th>Fantasy</th>\n",
       "      <th>Film-Noir</th>\n",
       "      <th>Horror</th>\n",
       "      <th>Musical</th>\n",
       "      <th>Mystery</th>\n",
       "      <th>Romance</th>\n",
       "      <th>Sci-Fi</th>\n",
       "      <th>Thriller</th>\n",
       "      <th>War</th>\n",
       "      <th>Western</th>\n",
       "    </tr>\n",
       "  </thead>\n",
       "  <tbody>\n",
       "    <tr>\n",
       "      <th>0</th>\n",
       "      <td>1</td>\n",
       "      <td>Toy Story (1995)</td>\n",
       "      <td>01-Jan-1995</td>\n",
       "      <td>NaN</td>\n",
       "      <td>http://us.imdb.com/M/title-exact?Toy%20Story%2...</td>\n",
       "      <td>0</td>\n",
       "      <td>0</td>\n",
       "      <td>0</td>\n",
       "      <td>1</td>\n",
       "      <td>1</td>\n",
       "      <td>...</td>\n",
       "      <td>0</td>\n",
       "      <td>0</td>\n",
       "      <td>0</td>\n",
       "      <td>0</td>\n",
       "      <td>0</td>\n",
       "      <td>0</td>\n",
       "      <td>0</td>\n",
       "      <td>0</td>\n",
       "      <td>0</td>\n",
       "      <td>0</td>\n",
       "    </tr>\n",
       "    <tr>\n",
       "      <th>7</th>\n",
       "      <td>8</td>\n",
       "      <td>Babe (1995)</td>\n",
       "      <td>01-Jan-1995</td>\n",
       "      <td>NaN</td>\n",
       "      <td>http://us.imdb.com/M/title-exact?Babe%20(1995)</td>\n",
       "      <td>0</td>\n",
       "      <td>0</td>\n",
       "      <td>0</td>\n",
       "      <td>0</td>\n",
       "      <td>1</td>\n",
       "      <td>...</td>\n",
       "      <td>0</td>\n",
       "      <td>0</td>\n",
       "      <td>0</td>\n",
       "      <td>0</td>\n",
       "      <td>0</td>\n",
       "      <td>0</td>\n",
       "      <td>0</td>\n",
       "      <td>0</td>\n",
       "      <td>0</td>\n",
       "      <td>0</td>\n",
       "    </tr>\n",
       "    <tr>\n",
       "      <th>34</th>\n",
       "      <td>35</td>\n",
       "      <td>Free Willy 2: The Adventure Home (1995)</td>\n",
       "      <td>01-Jan-1995</td>\n",
       "      <td>NaN</td>\n",
       "      <td>http://us.imdb.com/M/title-exact?Free%20Willy%...</td>\n",
       "      <td>0</td>\n",
       "      <td>0</td>\n",
       "      <td>1</td>\n",
       "      <td>0</td>\n",
       "      <td>1</td>\n",
       "      <td>...</td>\n",
       "      <td>0</td>\n",
       "      <td>0</td>\n",
       "      <td>0</td>\n",
       "      <td>0</td>\n",
       "      <td>0</td>\n",
       "      <td>0</td>\n",
       "      <td>0</td>\n",
       "      <td>0</td>\n",
       "      <td>0</td>\n",
       "      <td>0</td>\n",
       "    </tr>\n",
       "    <tr>\n",
       "      <th>62</th>\n",
       "      <td>63</td>\n",
       "      <td>Santa Clause, The (1994)</td>\n",
       "      <td>01-Jan-1994</td>\n",
       "      <td>NaN</td>\n",
       "      <td>http://us.imdb.com/M/title-exact?Santa%20Claus...</td>\n",
       "      <td>0</td>\n",
       "      <td>0</td>\n",
       "      <td>0</td>\n",
       "      <td>0</td>\n",
       "      <td>1</td>\n",
       "      <td>...</td>\n",
       "      <td>0</td>\n",
       "      <td>0</td>\n",
       "      <td>0</td>\n",
       "      <td>0</td>\n",
       "      <td>0</td>\n",
       "      <td>0</td>\n",
       "      <td>0</td>\n",
       "      <td>0</td>\n",
       "      <td>0</td>\n",
       "      <td>0</td>\n",
       "    </tr>\n",
       "    <tr>\n",
       "      <th>70</th>\n",
       "      <td>71</td>\n",
       "      <td>Lion King, The (1994)</td>\n",
       "      <td>01-Jan-1994</td>\n",
       "      <td>NaN</td>\n",
       "      <td>http://us.imdb.com/M/title-exact?Lion%20King,%...</td>\n",
       "      <td>0</td>\n",
       "      <td>0</td>\n",
       "      <td>0</td>\n",
       "      <td>1</td>\n",
       "      <td>1</td>\n",
       "      <td>...</td>\n",
       "      <td>0</td>\n",
       "      <td>0</td>\n",
       "      <td>0</td>\n",
       "      <td>1</td>\n",
       "      <td>0</td>\n",
       "      <td>0</td>\n",
       "      <td>0</td>\n",
       "      <td>0</td>\n",
       "      <td>0</td>\n",
       "      <td>0</td>\n",
       "    </tr>\n",
       "    <tr>\n",
       "      <th>77</th>\n",
       "      <td>78</td>\n",
       "      <td>Free Willy (1993)</td>\n",
       "      <td>01-Jan-1993</td>\n",
       "      <td>NaN</td>\n",
       "      <td>http://us.imdb.com/M/title-exact?Free%20Willy%...</td>\n",
       "      <td>0</td>\n",
       "      <td>0</td>\n",
       "      <td>1</td>\n",
       "      <td>0</td>\n",
       "      <td>1</td>\n",
       "      <td>...</td>\n",
       "      <td>0</td>\n",
       "      <td>0</td>\n",
       "      <td>0</td>\n",
       "      <td>0</td>\n",
       "      <td>0</td>\n",
       "      <td>0</td>\n",
       "      <td>0</td>\n",
       "      <td>0</td>\n",
       "      <td>0</td>\n",
       "      <td>0</td>\n",
       "    </tr>\n",
       "    <tr>\n",
       "      <th>90</th>\n",
       "      <td>91</td>\n",
       "      <td>Nightmare Before Christmas, The (1993)</td>\n",
       "      <td>01-Jan-1993</td>\n",
       "      <td>NaN</td>\n",
       "      <td>http://us.imdb.com/M/title-exact?Nightmare%20B...</td>\n",
       "      <td>0</td>\n",
       "      <td>0</td>\n",
       "      <td>0</td>\n",
       "      <td>0</td>\n",
       "      <td>1</td>\n",
       "      <td>...</td>\n",
       "      <td>0</td>\n",
       "      <td>0</td>\n",
       "      <td>0</td>\n",
       "      <td>1</td>\n",
       "      <td>0</td>\n",
       "      <td>0</td>\n",
       "      <td>0</td>\n",
       "      <td>0</td>\n",
       "      <td>0</td>\n",
       "      <td>0</td>\n",
       "    </tr>\n",
       "    <tr>\n",
       "      <th>93</th>\n",
       "      <td>94</td>\n",
       "      <td>Home Alone (1990)</td>\n",
       "      <td>01-Jan-1990</td>\n",
       "      <td>NaN</td>\n",
       "      <td>http://us.imdb.com/M/title-exact?Home%20Alone%...</td>\n",
       "      <td>0</td>\n",
       "      <td>0</td>\n",
       "      <td>0</td>\n",
       "      <td>0</td>\n",
       "      <td>1</td>\n",
       "      <td>...</td>\n",
       "      <td>0</td>\n",
       "      <td>0</td>\n",
       "      <td>0</td>\n",
       "      <td>0</td>\n",
       "      <td>0</td>\n",
       "      <td>0</td>\n",
       "      <td>0</td>\n",
       "      <td>0</td>\n",
       "      <td>0</td>\n",
       "      <td>0</td>\n",
       "    </tr>\n",
       "    <tr>\n",
       "      <th>94</th>\n",
       "      <td>95</td>\n",
       "      <td>Aladdin (1992)</td>\n",
       "      <td>01-Jan-1992</td>\n",
       "      <td>NaN</td>\n",
       "      <td>http://us.imdb.com/M/title-exact?Aladdin%20(1992)</td>\n",
       "      <td>0</td>\n",
       "      <td>0</td>\n",
       "      <td>0</td>\n",
       "      <td>1</td>\n",
       "      <td>1</td>\n",
       "      <td>...</td>\n",
       "      <td>0</td>\n",
       "      <td>0</td>\n",
       "      <td>0</td>\n",
       "      <td>1</td>\n",
       "      <td>0</td>\n",
       "      <td>0</td>\n",
       "      <td>0</td>\n",
       "      <td>0</td>\n",
       "      <td>0</td>\n",
       "      <td>0</td>\n",
       "    </tr>\n",
       "    <tr>\n",
       "      <th>98</th>\n",
       "      <td>99</td>\n",
       "      <td>Snow White and the Seven Dwarfs (1937)</td>\n",
       "      <td>01-Jan-1937</td>\n",
       "      <td>NaN</td>\n",
       "      <td>http://us.imdb.com/M/title-exact?Snow%20White%...</td>\n",
       "      <td>0</td>\n",
       "      <td>0</td>\n",
       "      <td>0</td>\n",
       "      <td>1</td>\n",
       "      <td>1</td>\n",
       "      <td>...</td>\n",
       "      <td>0</td>\n",
       "      <td>0</td>\n",
       "      <td>0</td>\n",
       "      <td>1</td>\n",
       "      <td>0</td>\n",
       "      <td>0</td>\n",
       "      <td>0</td>\n",
       "      <td>0</td>\n",
       "      <td>0</td>\n",
       "      <td>0</td>\n",
       "    </tr>\n",
       "    <tr>\n",
       "      <th>101</th>\n",
       "      <td>102</td>\n",
       "      <td>Aristocats, The (1970)</td>\n",
       "      <td>01-Jan-1970</td>\n",
       "      <td>NaN</td>\n",
       "      <td>http://us.imdb.com/M/title-exact?Aristocats,%2...</td>\n",
       "      <td>0</td>\n",
       "      <td>0</td>\n",
       "      <td>0</td>\n",
       "      <td>1</td>\n",
       "      <td>1</td>\n",
       "      <td>...</td>\n",
       "      <td>0</td>\n",
       "      <td>0</td>\n",
       "      <td>0</td>\n",
       "      <td>0</td>\n",
       "      <td>0</td>\n",
       "      <td>0</td>\n",
       "      <td>0</td>\n",
       "      <td>0</td>\n",
       "      <td>0</td>\n",
       "      <td>0</td>\n",
       "    </tr>\n",
       "    <tr>\n",
       "      <th>102</th>\n",
       "      <td>103</td>\n",
       "      <td>All Dogs Go to Heaven 2 (1996)</td>\n",
       "      <td>29-Mar-1996</td>\n",
       "      <td>NaN</td>\n",
       "      <td>http://us.imdb.com/M/title-exact?All%20Dogs%20...</td>\n",
       "      <td>0</td>\n",
       "      <td>0</td>\n",
       "      <td>0</td>\n",
       "      <td>1</td>\n",
       "      <td>1</td>\n",
       "      <td>...</td>\n",
       "      <td>0</td>\n",
       "      <td>0</td>\n",
       "      <td>0</td>\n",
       "      <td>1</td>\n",
       "      <td>0</td>\n",
       "      <td>0</td>\n",
       "      <td>0</td>\n",
       "      <td>0</td>\n",
       "      <td>0</td>\n",
       "      <td>0</td>\n",
       "    </tr>\n",
       "    <tr>\n",
       "      <th>111</th>\n",
       "      <td>112</td>\n",
       "      <td>Flipper (1996)</td>\n",
       "      <td>10-May-1996</td>\n",
       "      <td>NaN</td>\n",
       "      <td>http://us.imdb.com/M/title-exact?Flipper%20(1996)</td>\n",
       "      <td>0</td>\n",
       "      <td>0</td>\n",
       "      <td>1</td>\n",
       "      <td>0</td>\n",
       "      <td>1</td>\n",
       "      <td>...</td>\n",
       "      <td>0</td>\n",
       "      <td>0</td>\n",
       "      <td>0</td>\n",
       "      <td>0</td>\n",
       "      <td>0</td>\n",
       "      <td>0</td>\n",
       "      <td>0</td>\n",
       "      <td>0</td>\n",
       "      <td>0</td>\n",
       "      <td>0</td>\n",
       "    </tr>\n",
       "    <tr>\n",
       "      <th>131</th>\n",
       "      <td>132</td>\n",
       "      <td>Wizard of Oz, The (1939)</td>\n",
       "      <td>01-Jan-1939</td>\n",
       "      <td>NaN</td>\n",
       "      <td>http://us.imdb.com/M/title-exact?Wizard%20of%2...</td>\n",
       "      <td>0</td>\n",
       "      <td>0</td>\n",
       "      <td>1</td>\n",
       "      <td>0</td>\n",
       "      <td>1</td>\n",
       "      <td>...</td>\n",
       "      <td>0</td>\n",
       "      <td>0</td>\n",
       "      <td>0</td>\n",
       "      <td>1</td>\n",
       "      <td>0</td>\n",
       "      <td>0</td>\n",
       "      <td>0</td>\n",
       "      <td>0</td>\n",
       "      <td>0</td>\n",
       "      <td>0</td>\n",
       "    </tr>\n",
       "    <tr>\n",
       "      <th>137</th>\n",
       "      <td>138</td>\n",
       "      <td>D3: The Mighty Ducks (1996)</td>\n",
       "      <td>04-Oct-1996</td>\n",
       "      <td>NaN</td>\n",
       "      <td>http://us.imdb.com/M/title-exact?D3:%20The%20M...</td>\n",
       "      <td>0</td>\n",
       "      <td>0</td>\n",
       "      <td>0</td>\n",
       "      <td>0</td>\n",
       "      <td>1</td>\n",
       "      <td>...</td>\n",
       "      <td>0</td>\n",
       "      <td>0</td>\n",
       "      <td>0</td>\n",
       "      <td>0</td>\n",
       "      <td>0</td>\n",
       "      <td>0</td>\n",
       "      <td>0</td>\n",
       "      <td>0</td>\n",
       "      <td>0</td>\n",
       "      <td>0</td>\n",
       "    </tr>\n",
       "    <tr>\n",
       "      <th>138</th>\n",
       "      <td>139</td>\n",
       "      <td>Love Bug, The (1969)</td>\n",
       "      <td>01-Jan-1969</td>\n",
       "      <td>NaN</td>\n",
       "      <td>http://us.imdb.com/M/title-exact?Love%20Bug,%2...</td>\n",
       "      <td>0</td>\n",
       "      <td>0</td>\n",
       "      <td>0</td>\n",
       "      <td>0</td>\n",
       "      <td>1</td>\n",
       "      <td>...</td>\n",
       "      <td>0</td>\n",
       "      <td>0</td>\n",
       "      <td>0</td>\n",
       "      <td>0</td>\n",
       "      <td>0</td>\n",
       "      <td>0</td>\n",
       "      <td>0</td>\n",
       "      <td>0</td>\n",
       "      <td>0</td>\n",
       "      <td>0</td>\n",
       "    </tr>\n",
       "    <tr>\n",
       "      <th>139</th>\n",
       "      <td>140</td>\n",
       "      <td>Homeward Bound: The Incredible Journey (1993)</td>\n",
       "      <td>01-Jan-1993</td>\n",
       "      <td>NaN</td>\n",
       "      <td>http://us.imdb.com/M/title-exact?Homeward%20Bo...</td>\n",
       "      <td>0</td>\n",
       "      <td>0</td>\n",
       "      <td>1</td>\n",
       "      <td>0</td>\n",
       "      <td>1</td>\n",
       "      <td>...</td>\n",
       "      <td>0</td>\n",
       "      <td>0</td>\n",
       "      <td>0</td>\n",
       "      <td>0</td>\n",
       "      <td>0</td>\n",
       "      <td>0</td>\n",
       "      <td>0</td>\n",
       "      <td>0</td>\n",
       "      <td>0</td>\n",
       "      <td>0</td>\n",
       "    </tr>\n",
       "    <tr>\n",
       "      <th>140</th>\n",
       "      <td>141</td>\n",
       "      <td>20,000 Leagues Under the Sea (1954)</td>\n",
       "      <td>01-Jan-1954</td>\n",
       "      <td>NaN</td>\n",
       "      <td>http://us.imdb.com/M/title-exact?20,000%20Leag...</td>\n",
       "      <td>0</td>\n",
       "      <td>0</td>\n",
       "      <td>1</td>\n",
       "      <td>0</td>\n",
       "      <td>1</td>\n",
       "      <td>...</td>\n",
       "      <td>1</td>\n",
       "      <td>0</td>\n",
       "      <td>0</td>\n",
       "      <td>0</td>\n",
       "      <td>0</td>\n",
       "      <td>0</td>\n",
       "      <td>1</td>\n",
       "      <td>0</td>\n",
       "      <td>0</td>\n",
       "      <td>0</td>\n",
       "    </tr>\n",
       "    <tr>\n",
       "      <th>141</th>\n",
       "      <td>142</td>\n",
       "      <td>Bedknobs and Broomsticks (1971)</td>\n",
       "      <td>01-Jan-1971</td>\n",
       "      <td>NaN</td>\n",
       "      <td>http://us.imdb.com/M/title-exact?Bedknobs%20an...</td>\n",
       "      <td>0</td>\n",
       "      <td>0</td>\n",
       "      <td>1</td>\n",
       "      <td>0</td>\n",
       "      <td>1</td>\n",
       "      <td>...</td>\n",
       "      <td>0</td>\n",
       "      <td>0</td>\n",
       "      <td>0</td>\n",
       "      <td>1</td>\n",
       "      <td>0</td>\n",
       "      <td>0</td>\n",
       "      <td>0</td>\n",
       "      <td>0</td>\n",
       "      <td>0</td>\n",
       "      <td>0</td>\n",
       "    </tr>\n",
       "    <tr>\n",
       "      <th>150</th>\n",
       "      <td>151</td>\n",
       "      <td>Willy Wonka and the Chocolate Factory (1971)</td>\n",
       "      <td>01-Jan-1971</td>\n",
       "      <td>NaN</td>\n",
       "      <td>http://us.imdb.com/M/title-exact?Willy%20Wonka...</td>\n",
       "      <td>0</td>\n",
       "      <td>0</td>\n",
       "      <td>1</td>\n",
       "      <td>0</td>\n",
       "      <td>1</td>\n",
       "      <td>...</td>\n",
       "      <td>0</td>\n",
       "      <td>0</td>\n",
       "      <td>0</td>\n",
       "      <td>0</td>\n",
       "      <td>0</td>\n",
       "      <td>0</td>\n",
       "      <td>0</td>\n",
       "      <td>0</td>\n",
       "      <td>0</td>\n",
       "      <td>0</td>\n",
       "    </tr>\n",
       "  </tbody>\n",
       "</table>\n",
       "<p>20 rows × 24 columns</p>\n",
       "</div>"
      ],
      "text/plain": [
       "     movie_id                                          title release_date  \\\n",
       "0           1                               Toy Story (1995)  01-Jan-1995   \n",
       "7           8                                    Babe (1995)  01-Jan-1995   \n",
       "34         35        Free Willy 2: The Adventure Home (1995)  01-Jan-1995   \n",
       "62         63                       Santa Clause, The (1994)  01-Jan-1994   \n",
       "70         71                          Lion King, The (1994)  01-Jan-1994   \n",
       "77         78                              Free Willy (1993)  01-Jan-1993   \n",
       "90         91         Nightmare Before Christmas, The (1993)  01-Jan-1993   \n",
       "93         94                              Home Alone (1990)  01-Jan-1990   \n",
       "94         95                                 Aladdin (1992)  01-Jan-1992   \n",
       "98         99         Snow White and the Seven Dwarfs (1937)  01-Jan-1937   \n",
       "101       102                         Aristocats, The (1970)  01-Jan-1970   \n",
       "102       103                 All Dogs Go to Heaven 2 (1996)  29-Mar-1996   \n",
       "111       112                                 Flipper (1996)  10-May-1996   \n",
       "131       132                       Wizard of Oz, The (1939)  01-Jan-1939   \n",
       "137       138                    D3: The Mighty Ducks (1996)  04-Oct-1996   \n",
       "138       139                           Love Bug, The (1969)  01-Jan-1969   \n",
       "139       140  Homeward Bound: The Incredible Journey (1993)  01-Jan-1993   \n",
       "140       141            20,000 Leagues Under the Sea (1954)  01-Jan-1954   \n",
       "141       142                Bedknobs and Broomsticks (1971)  01-Jan-1971   \n",
       "150       151   Willy Wonka and the Chocolate Factory (1971)  01-Jan-1971   \n",
       "\n",
       "     video_release_date                                           imdb_url  \\\n",
       "0                   NaN  http://us.imdb.com/M/title-exact?Toy%20Story%2...   \n",
       "7                   NaN     http://us.imdb.com/M/title-exact?Babe%20(1995)   \n",
       "34                  NaN  http://us.imdb.com/M/title-exact?Free%20Willy%...   \n",
       "62                  NaN  http://us.imdb.com/M/title-exact?Santa%20Claus...   \n",
       "70                  NaN  http://us.imdb.com/M/title-exact?Lion%20King,%...   \n",
       "77                  NaN  http://us.imdb.com/M/title-exact?Free%20Willy%...   \n",
       "90                  NaN  http://us.imdb.com/M/title-exact?Nightmare%20B...   \n",
       "93                  NaN  http://us.imdb.com/M/title-exact?Home%20Alone%...   \n",
       "94                  NaN  http://us.imdb.com/M/title-exact?Aladdin%20(1992)   \n",
       "98                  NaN  http://us.imdb.com/M/title-exact?Snow%20White%...   \n",
       "101                 NaN  http://us.imdb.com/M/title-exact?Aristocats,%2...   \n",
       "102                 NaN  http://us.imdb.com/M/title-exact?All%20Dogs%20...   \n",
       "111                 NaN  http://us.imdb.com/M/title-exact?Flipper%20(1996)   \n",
       "131                 NaN  http://us.imdb.com/M/title-exact?Wizard%20of%2...   \n",
       "137                 NaN  http://us.imdb.com/M/title-exact?D3:%20The%20M...   \n",
       "138                 NaN  http://us.imdb.com/M/title-exact?Love%20Bug,%2...   \n",
       "139                 NaN  http://us.imdb.com/M/title-exact?Homeward%20Bo...   \n",
       "140                 NaN  http://us.imdb.com/M/title-exact?20,000%20Leag...   \n",
       "141                 NaN  http://us.imdb.com/M/title-exact?Bedknobs%20an...   \n",
       "150                 NaN  http://us.imdb.com/M/title-exact?Willy%20Wonka...   \n",
       "\n",
       "     genre_unknown  Action  Adventure  Animation  Children  ...  Fantasy  \\\n",
       "0                0       0          0          1         1  ...        0   \n",
       "7                0       0          0          0         1  ...        0   \n",
       "34               0       0          1          0         1  ...        0   \n",
       "62               0       0          0          0         1  ...        0   \n",
       "70               0       0          0          1         1  ...        0   \n",
       "77               0       0          1          0         1  ...        0   \n",
       "90               0       0          0          0         1  ...        0   \n",
       "93               0       0          0          0         1  ...        0   \n",
       "94               0       0          0          1         1  ...        0   \n",
       "98               0       0          0          1         1  ...        0   \n",
       "101              0       0          0          1         1  ...        0   \n",
       "102              0       0          0          1         1  ...        0   \n",
       "111              0       0          1          0         1  ...        0   \n",
       "131              0       0          1          0         1  ...        0   \n",
       "137              0       0          0          0         1  ...        0   \n",
       "138              0       0          0          0         1  ...        0   \n",
       "139              0       0          1          0         1  ...        0   \n",
       "140              0       0          1          0         1  ...        1   \n",
       "141              0       0          1          0         1  ...        0   \n",
       "150              0       0          1          0         1  ...        0   \n",
       "\n",
       "     Film-Noir  Horror  Musical  Mystery  Romance  Sci-Fi  Thriller  War  \\\n",
       "0            0       0        0        0        0       0         0    0   \n",
       "7            0       0        0        0        0       0         0    0   \n",
       "34           0       0        0        0        0       0         0    0   \n",
       "62           0       0        0        0        0       0         0    0   \n",
       "70           0       0        1        0        0       0         0    0   \n",
       "77           0       0        0        0        0       0         0    0   \n",
       "90           0       0        1        0        0       0         0    0   \n",
       "93           0       0        0        0        0       0         0    0   \n",
       "94           0       0        1        0        0       0         0    0   \n",
       "98           0       0        1        0        0       0         0    0   \n",
       "101          0       0        0        0        0       0         0    0   \n",
       "102          0       0        1        0        0       0         0    0   \n",
       "111          0       0        0        0        0       0         0    0   \n",
       "131          0       0        1        0        0       0         0    0   \n",
       "137          0       0        0        0        0       0         0    0   \n",
       "138          0       0        0        0        0       0         0    0   \n",
       "139          0       0        0        0        0       0         0    0   \n",
       "140          0       0        0        0        0       1         0    0   \n",
       "141          0       0        1        0        0       0         0    0   \n",
       "150          0       0        0        0        0       0         0    0   \n",
       "\n",
       "     Western  \n",
       "0          0  \n",
       "7          0  \n",
       "34         0  \n",
       "62         0  \n",
       "70         0  \n",
       "77         0  \n",
       "90         0  \n",
       "93         0  \n",
       "94         0  \n",
       "98         0  \n",
       "101        0  \n",
       "102        0  \n",
       "111        0  \n",
       "131        0  \n",
       "137        0  \n",
       "138        0  \n",
       "139        0  \n",
       "140        0  \n",
       "141        0  \n",
       "150        0  \n",
       "\n",
       "[20 rows x 24 columns]"
      ]
     },
     "execution_count": 12,
     "metadata": {},
     "output_type": "execute_result"
    }
   ],
   "source": [
    "# Look up kid's movies\n",
    "kids_row = movies.loc[movies['Children'] == 1]\n",
    "kids_row.head(20)"
   ]
  },
  {
   "cell_type": "code",
   "execution_count": 13,
   "metadata": {
    "execution": {
     "iopub.execute_input": "2020-12-09T06:08:38.729271Z",
     "iopub.status.busy": "2020-12-09T06:08:38.728201Z",
     "iopub.status.idle": "2020-12-09T06:08:38.732473Z",
     "shell.execute_reply": "2020-12-09T06:08:38.731959Z"
    },
    "papermill": {
     "duration": 0.063704,
     "end_time": "2020-12-09T06:08:38.732588",
     "exception": false,
     "start_time": "2020-12-09T06:08:38.668884",
     "status": "completed"
    },
    "tags": []
   },
   "outputs": [
    {
     "data": {
      "text/plain": [
       "user_id        int64\n",
       "age            int64\n",
       "sex           object\n",
       "occupation    object\n",
       "zip_code      object\n",
       "dtype: object"
      ]
     },
     "execution_count": 13,
     "metadata": {},
     "output_type": "execute_result"
    }
   ],
   "source": [
    "users.dtypes"
   ]
  },
  {
   "cell_type": "code",
   "execution_count": 14,
   "metadata": {
    "execution": {
     "iopub.execute_input": "2020-12-09T06:08:38.854845Z",
     "iopub.status.busy": "2020-12-09T06:08:38.853890Z",
     "iopub.status.idle": "2020-12-09T06:08:38.858311Z",
     "shell.execute_reply": "2020-12-09T06:08:38.857783Z"
    },
    "papermill": {
     "duration": 0.07167,
     "end_time": "2020-12-09T06:08:38.858429",
     "exception": false,
     "start_time": "2020-12-09T06:08:38.786759",
     "status": "completed"
    },
    "tags": []
   },
   "outputs": [
    {
     "data": {
      "text/plain": [
       "<bound method NDFrame.tail of      user_id  age  sex     occupation zip_code\n",
       "0          1   24    M     technician    85711\n",
       "1          2   53    F          other    94043\n",
       "2          3   23    M         writer    32067\n",
       "3          4   24    M     technician    43537\n",
       "4          5   33    F          other    15213\n",
       "..       ...  ...  ...            ...      ...\n",
       "939      940   32    M  administrator    02215\n",
       "940      941   20    M        student    97229\n",
       "941      942   48    F      librarian    78209\n",
       "942      943   22    M        student    77841\n",
       "943      944   21  NaN            NaN      NaN\n",
       "\n",
       "[944 rows x 5 columns]>"
      ]
     },
     "execution_count": 14,
     "metadata": {},
     "output_type": "execute_result"
    }
   ],
   "source": [
    "# Create new user\n",
    "\n",
    "new_person = pd.DataFrame(data = {'user_id': 944, 'age': 21}, index = [0])\n",
    "users = users.append(new_person, ignore_index = True)\n",
    "users.tail"
   ]
  },
  {
   "cell_type": "code",
   "execution_count": 15,
   "metadata": {
    "execution": {
     "iopub.execute_input": "2020-12-09T06:08:38.974226Z",
     "iopub.status.busy": "2020-12-09T06:08:38.973477Z",
     "iopub.status.idle": "2020-12-09T06:08:38.977065Z",
     "shell.execute_reply": "2020-12-09T06:08:38.977728Z"
    },
    "papermill": {
     "duration": 0.065071,
     "end_time": "2020-12-09T06:08:38.977867",
     "exception": false,
     "start_time": "2020-12-09T06:08:38.912796",
     "status": "completed"
    },
    "tags": []
   },
   "outputs": [
    {
     "data": {
      "text/plain": [
       "user_id        int64\n",
       "age            int64\n",
       "sex           object\n",
       "occupation    object\n",
       "zip_code      object\n",
       "dtype: object"
      ]
     },
     "execution_count": 15,
     "metadata": {},
     "output_type": "execute_result"
    }
   ],
   "source": [
    "users.dtypes"
   ]
  },
  {
   "cell_type": "code",
   "execution_count": 16,
   "metadata": {
    "execution": {
     "iopub.execute_input": "2020-12-09T06:08:39.095972Z",
     "iopub.status.busy": "2020-12-09T06:08:39.095329Z",
     "iopub.status.idle": "2020-12-09T06:08:39.277328Z",
     "shell.execute_reply": "2020-12-09T06:08:39.276706Z"
    },
    "papermill": {
     "duration": 0.240573,
     "end_time": "2020-12-09T06:08:39.277449",
     "exception": false,
     "start_time": "2020-12-09T06:08:39.036876",
     "status": "completed"
    },
    "tags": []
   },
   "outputs": [],
   "source": [
    "# 0-index data\n",
    "users[\"user_id\"] = users[\"user_id\"].apply(lambda x: str(x-1))\n",
    "movies[\"movie_id\"] = movies[\"movie_id\"].apply(lambda x: str(x-1))\n",
    "movies[\"year\"] = movies['release_date'].apply(lambda x: str(x).split('-')[-1])\n",
    "ratings[\"movie_id\"] = ratings[\"movie_id\"].apply(lambda x: str(x-1))\n",
    "ratings[\"user_id\"] = ratings[\"user_id\"].apply(lambda x: str(x-1))\n",
    "ratings[\"rating\"] = ratings[\"rating\"].apply(lambda x: float(x))"
   ]
  },
  {
   "cell_type": "code",
   "execution_count": 17,
   "metadata": {
    "execution": {
     "iopub.execute_input": "2020-12-09T06:08:39.399482Z",
     "iopub.status.busy": "2020-12-09T06:08:39.398631Z",
     "iopub.status.idle": "2020-12-09T06:08:39.402106Z",
     "shell.execute_reply": "2020-12-09T06:08:39.402651Z"
    },
    "papermill": {
     "duration": 0.069283,
     "end_time": "2020-12-09T06:08:39.402795",
     "exception": false,
     "start_time": "2020-12-09T06:08:39.333512",
     "status": "completed"
    },
    "tags": []
   },
   "outputs": [
    {
     "name": "stdout",
     "output_type": "stream",
     "text": [
      "    user_id  age  sex     occupation zip_code\n",
      "0         0   24    M     technician    85711\n",
      "1         1   53    F          other    94043\n",
      "2         2   23    M         writer    32067\n",
      "3         3   24    M     technician    43537\n",
      "4         4   33    F          other    15213\n",
      "..      ...  ...  ...            ...      ...\n",
      "939     939   32    M  administrator    02215\n",
      "940     940   20    M        student    97229\n",
      "941     941   48    F      librarian    78209\n",
      "942     942   22    M        student    77841\n",
      "943     943   21  NaN            NaN      NaN\n",
      "\n",
      "[944 rows x 5 columns]\n"
     ]
    }
   ],
   "source": [
    "print(users)"
   ]
  },
  {
   "cell_type": "code",
   "execution_count": 18,
   "metadata": {
    "execution": {
     "iopub.execute_input": "2020-12-09T06:08:39.516704Z",
     "iopub.status.busy": "2020-12-09T06:08:39.515675Z",
     "iopub.status.idle": "2020-12-09T06:08:39.526142Z",
     "shell.execute_reply": "2020-12-09T06:08:39.526695Z"
    },
    "papermill": {
     "duration": 0.069127,
     "end_time": "2020-12-09T06:08:39.526857",
     "exception": false,
     "start_time": "2020-12-09T06:08:39.457730",
     "status": "completed"
    },
    "tags": []
   },
   "outputs": [
    {
     "name": "stdout",
     "output_type": "stream",
     "text": [
      "       user_id movie_id  rating  unix_timestamp\n",
      "0          943        0     5.0               0\n",
      "1          943        7     5.0               0\n",
      "2          943       62     5.0               0\n",
      "3          943       70     5.0               0\n",
      "4          943       34     5.0               0\n",
      "...        ...      ...     ...             ...\n",
      "100005     879      475     3.0       880175444\n",
      "100006     715      203     5.0       879795543\n",
      "100007     275     1089     1.0       874795795\n",
      "100008      12      224     2.0       882399156\n",
      "100009      11      202     3.0       879959583\n",
      "\n",
      "[100010 rows x 4 columns]\n"
     ]
    }
   ],
   "source": [
    "print(ratings)"
   ]
  },
  {
   "cell_type": "code",
   "execution_count": 19,
   "metadata": {
    "execution": {
     "iopub.execute_input": "2020-12-09T06:08:39.646194Z",
     "iopub.status.busy": "2020-12-09T06:08:39.644587Z",
     "iopub.status.idle": "2020-12-09T06:08:39.660932Z",
     "shell.execute_reply": "2020-12-09T06:08:39.661460Z"
    },
    "papermill": {
     "duration": 0.078772,
     "end_time": "2020-12-09T06:08:39.661615",
     "exception": false,
     "start_time": "2020-12-09T06:08:39.582843",
     "status": "completed"
    },
    "tags": []
   },
   "outputs": [
    {
     "name": "stdout",
     "output_type": "stream",
     "text": [
      "     movie_id                                      title release_date  \\\n",
      "0           0                           Toy Story (1995)  01-Jan-1995   \n",
      "1           1                           GoldenEye (1995)  01-Jan-1995   \n",
      "2           2                          Four Rooms (1995)  01-Jan-1995   \n",
      "3           3                          Get Shorty (1995)  01-Jan-1995   \n",
      "4           4                             Copycat (1995)  01-Jan-1995   \n",
      "...       ...                                        ...          ...   \n",
      "1677     1677                          Mat' i syn (1997)  06-Feb-1998   \n",
      "1678     1678                           B. Monkey (1998)  06-Feb-1998   \n",
      "1679     1679                       Sliding Doors (1998)  01-Jan-1998   \n",
      "1680     1680                        You So Crazy (1994)  01-Jan-1994   \n",
      "1681     1681  Scream of Stone (Schrei aus Stein) (1991)  08-Mar-1996   \n",
      "\n",
      "      video_release_date                                           imdb_url  \\\n",
      "0                    NaN  http://us.imdb.com/M/title-exact?Toy%20Story%2...   \n",
      "1                    NaN  http://us.imdb.com/M/title-exact?GoldenEye%20(...   \n",
      "2                    NaN  http://us.imdb.com/M/title-exact?Four%20Rooms%...   \n",
      "3                    NaN  http://us.imdb.com/M/title-exact?Get%20Shorty%...   \n",
      "4                    NaN  http://us.imdb.com/M/title-exact?Copycat%20(1995)   \n",
      "...                  ...                                                ...   \n",
      "1677                 NaN  http://us.imdb.com/M/title-exact?Mat%27+i+syn+...   \n",
      "1678                 NaN  http://us.imdb.com/M/title-exact?B%2E+Monkey+(...   \n",
      "1679                 NaN      http://us.imdb.com/Title?Sliding+Doors+(1998)   \n",
      "1680                 NaN  http://us.imdb.com/M/title-exact?You%20So%20Cr...   \n",
      "1681                 NaN  http://us.imdb.com/M/title-exact?Schrei%20aus%...   \n",
      "\n",
      "      genre_unknown  Action  Adventure  Animation  Children  ...  Film-Noir  \\\n",
      "0                 0       0          0          1         1  ...          0   \n",
      "1                 0       1          1          0         0  ...          0   \n",
      "2                 0       0          0          0         0  ...          0   \n",
      "3                 0       1          0          0         0  ...          0   \n",
      "4                 0       0          0          0         0  ...          0   \n",
      "...             ...     ...        ...        ...       ...  ...        ...   \n",
      "1677              0       0          0          0         0  ...          0   \n",
      "1678              0       0          0          0         0  ...          0   \n",
      "1679              0       0          0          0         0  ...          0   \n",
      "1680              0       0          0          0         0  ...          0   \n",
      "1681              0       0          0          0         0  ...          0   \n",
      "\n",
      "      Horror  Musical  Mystery  Romance  Sci-Fi  Thriller  War  Western  year  \n",
      "0          0        0        0        0       0         0    0        0  1995  \n",
      "1          0        0        0        0       0         1    0        0  1995  \n",
      "2          0        0        0        0       0         1    0        0  1995  \n",
      "3          0        0        0        0       0         0    0        0  1995  \n",
      "4          0        0        0        0       0         1    0        0  1995  \n",
      "...      ...      ...      ...      ...     ...       ...  ...      ...   ...  \n",
      "1677       0        0        0        0       0         0    0        0  1998  \n",
      "1678       0        0        0        1       0         1    0        0  1998  \n",
      "1679       0        0        0        1       0         0    0        0  1998  \n",
      "1680       0        0        0        0       0         0    0        0  1994  \n",
      "1681       0        0        0        0       0         0    0        0  1996  \n",
      "\n",
      "[1682 rows x 25 columns]\n"
     ]
    }
   ],
   "source": [
    "print(movies)"
   ]
  },
  {
   "cell_type": "code",
   "execution_count": 20,
   "metadata": {
    "execution": {
     "iopub.execute_input": "2020-12-09T06:08:39.780219Z",
     "iopub.status.busy": "2020-12-09T06:08:39.779175Z",
     "iopub.status.idle": "2020-12-09T06:08:39.786345Z",
     "shell.execute_reply": "2020-12-09T06:08:39.785461Z"
    },
    "papermill": {
     "duration": 0.06698,
     "end_time": "2020-12-09T06:08:39.786498",
     "exception": false,
     "start_time": "2020-12-09T06:08:39.719518",
     "status": "completed"
    },
    "tags": []
   },
   "outputs": [
    {
     "name": "stdout",
     "output_type": "stream",
     "text": [
      "<class 'str'>\n"
     ]
    }
   ],
   "source": [
    "print(type(movies['movie_id'].values[0]))"
   ]
  },
  {
   "cell_type": "code",
   "execution_count": 21,
   "metadata": {
    "execution": {
     "iopub.execute_input": "2020-12-09T06:08:39.911803Z",
     "iopub.status.busy": "2020-12-09T06:08:39.910588Z",
     "iopub.status.idle": "2020-12-09T06:08:40.014922Z",
     "shell.execute_reply": "2020-12-09T06:08:40.014388Z"
    },
    "papermill": {
     "duration": 0.171495,
     "end_time": "2020-12-09T06:08:40.015041",
     "exception": false,
     "start_time": "2020-12-09T06:08:39.843546",
     "status": "completed"
    },
    "tags": []
   },
   "outputs": [
    {
     "data": {
      "text/html": [
       "<div>\n",
       "<style scoped>\n",
       "    .dataframe tbody tr th:only-of-type {\n",
       "        vertical-align: middle;\n",
       "    }\n",
       "\n",
       "    .dataframe tbody tr th {\n",
       "        vertical-align: top;\n",
       "    }\n",
       "\n",
       "    .dataframe thead th {\n",
       "        text-align: right;\n",
       "    }\n",
       "</style>\n",
       "<table border=\"1\" class=\"dataframe\">\n",
       "  <thead>\n",
       "    <tr style=\"text-align: right;\">\n",
       "      <th>movie_id</th>\n",
       "      <th>0</th>\n",
       "      <th>120</th>\n",
       "      <th>126</th>\n",
       "      <th>173</th>\n",
       "      <th>180</th>\n",
       "      <th>257</th>\n",
       "      <th>285</th>\n",
       "      <th>287</th>\n",
       "      <th>293</th>\n",
       "      <th>299</th>\n",
       "      <th>49</th>\n",
       "      <th>55</th>\n",
       "      <th>6</th>\n",
       "      <th>97</th>\n",
       "      <th>99</th>\n",
       "    </tr>\n",
       "    <tr>\n",
       "      <th>user_id</th>\n",
       "      <th></th>\n",
       "      <th></th>\n",
       "      <th></th>\n",
       "      <th></th>\n",
       "      <th></th>\n",
       "      <th></th>\n",
       "      <th></th>\n",
       "      <th></th>\n",
       "      <th></th>\n",
       "      <th></th>\n",
       "      <th></th>\n",
       "      <th></th>\n",
       "      <th></th>\n",
       "      <th></th>\n",
       "      <th></th>\n",
       "    </tr>\n",
       "  </thead>\n",
       "  <tbody>\n",
       "    <tr>\n",
       "      <th>12</th>\n",
       "      <td>3.0</td>\n",
       "      <td>5.0</td>\n",
       "      <td>5.0</td>\n",
       "      <td>4.0</td>\n",
       "      <td>5.0</td>\n",
       "      <td>4.0</td>\n",
       "      <td>3.0</td>\n",
       "      <td>1.0</td>\n",
       "      <td>2.0</td>\n",
       "      <td>1.0</td>\n",
       "      <td>5.0</td>\n",
       "      <td>5.0</td>\n",
       "      <td>2.0</td>\n",
       "      <td>4.0</td>\n",
       "      <td>5.0</td>\n",
       "    </tr>\n",
       "    <tr>\n",
       "      <th>180</th>\n",
       "      <td>3.0</td>\n",
       "      <td>4.0</td>\n",
       "      <td>NaN</td>\n",
       "      <td>NaN</td>\n",
       "      <td>NaN</td>\n",
       "      <td>3.0</td>\n",
       "      <td>1.0</td>\n",
       "      <td>4.0</td>\n",
       "      <td>2.0</td>\n",
       "      <td>3.0</td>\n",
       "      <td>NaN</td>\n",
       "      <td>NaN</td>\n",
       "      <td>4.0</td>\n",
       "      <td>NaN</td>\n",
       "      <td>3.0</td>\n",
       "    </tr>\n",
       "    <tr>\n",
       "      <th>233</th>\n",
       "      <td>3.0</td>\n",
       "      <td>NaN</td>\n",
       "      <td>4.0</td>\n",
       "      <td>3.0</td>\n",
       "      <td>3.0</td>\n",
       "      <td>2.0</td>\n",
       "      <td>3.0</td>\n",
       "      <td>3.0</td>\n",
       "      <td>3.0</td>\n",
       "      <td>3.0</td>\n",
       "      <td>4.0</td>\n",
       "      <td>3.0</td>\n",
       "      <td>2.0</td>\n",
       "      <td>4.0</td>\n",
       "      <td>4.0</td>\n",
       "    </tr>\n",
       "    <tr>\n",
       "      <th>275</th>\n",
       "      <td>5.0</td>\n",
       "      <td>4.0</td>\n",
       "      <td>5.0</td>\n",
       "      <td>5.0</td>\n",
       "      <td>5.0</td>\n",
       "      <td>5.0</td>\n",
       "      <td>NaN</td>\n",
       "      <td>4.0</td>\n",
       "      <td>4.0</td>\n",
       "      <td>4.0</td>\n",
       "      <td>5.0</td>\n",
       "      <td>5.0</td>\n",
       "      <td>5.0</td>\n",
       "      <td>5.0</td>\n",
       "      <td>5.0</td>\n",
       "    </tr>\n",
       "    <tr>\n",
       "      <th>278</th>\n",
       "      <td>3.0</td>\n",
       "      <td>4.0</td>\n",
       "      <td>NaN</td>\n",
       "      <td>4.0</td>\n",
       "      <td>3.0</td>\n",
       "      <td>NaN</td>\n",
       "      <td>NaN</td>\n",
       "      <td>3.0</td>\n",
       "      <td>2.0</td>\n",
       "      <td>NaN</td>\n",
       "      <td>3.0</td>\n",
       "      <td>4.0</td>\n",
       "      <td>5.0</td>\n",
       "      <td>NaN</td>\n",
       "      <td>4.0</td>\n",
       "    </tr>\n",
       "    <tr>\n",
       "      <th>302</th>\n",
       "      <td>5.0</td>\n",
       "      <td>3.0</td>\n",
       "      <td>5.0</td>\n",
       "      <td>5.0</td>\n",
       "      <td>5.0</td>\n",
       "      <td>4.0</td>\n",
       "      <td>5.0</td>\n",
       "      <td>4.0</td>\n",
       "      <td>4.0</td>\n",
       "      <td>1.0</td>\n",
       "      <td>5.0</td>\n",
       "      <td>5.0</td>\n",
       "      <td>4.0</td>\n",
       "      <td>5.0</td>\n",
       "      <td>5.0</td>\n",
       "    </tr>\n",
       "    <tr>\n",
       "      <th>392</th>\n",
       "      <td>3.0</td>\n",
       "      <td>4.0</td>\n",
       "      <td>NaN</td>\n",
       "      <td>NaN</td>\n",
       "      <td>4.0</td>\n",
       "      <td>4.0</td>\n",
       "      <td>NaN</td>\n",
       "      <td>3.0</td>\n",
       "      <td>4.0</td>\n",
       "      <td>NaN</td>\n",
       "      <td>5.0</td>\n",
       "      <td>2.0</td>\n",
       "      <td>4.0</td>\n",
       "      <td>NaN</td>\n",
       "      <td>1.0</td>\n",
       "    </tr>\n",
       "    <tr>\n",
       "      <th>404</th>\n",
       "      <td>NaN</td>\n",
       "      <td>NaN</td>\n",
       "      <td>5.0</td>\n",
       "      <td>5.0</td>\n",
       "      <td>5.0</td>\n",
       "      <td>NaN</td>\n",
       "      <td>NaN</td>\n",
       "      <td>5.0</td>\n",
       "      <td>NaN</td>\n",
       "      <td>NaN</td>\n",
       "      <td>5.0</td>\n",
       "      <td>4.0</td>\n",
       "      <td>NaN</td>\n",
       "      <td>4.0</td>\n",
       "      <td>NaN</td>\n",
       "    </tr>\n",
       "    <tr>\n",
       "      <th>415</th>\n",
       "      <td>5.0</td>\n",
       "      <td>5.0</td>\n",
       "      <td>5.0</td>\n",
       "      <td>5.0</td>\n",
       "      <td>5.0</td>\n",
       "      <td>5.0</td>\n",
       "      <td>5.0</td>\n",
       "      <td>5.0</td>\n",
       "      <td>4.0</td>\n",
       "      <td>4.0</td>\n",
       "      <td>5.0</td>\n",
       "      <td>5.0</td>\n",
       "      <td>4.0</td>\n",
       "      <td>5.0</td>\n",
       "      <td>5.0</td>\n",
       "    </tr>\n",
       "    <tr>\n",
       "      <th>428</th>\n",
       "      <td>3.0</td>\n",
       "      <td>3.0</td>\n",
       "      <td>4.0</td>\n",
       "      <td>4.0</td>\n",
       "      <td>5.0</td>\n",
       "      <td>4.0</td>\n",
       "      <td>NaN</td>\n",
       "      <td>3.0</td>\n",
       "      <td>NaN</td>\n",
       "      <td>3.0</td>\n",
       "      <td>5.0</td>\n",
       "      <td>4.0</td>\n",
       "      <td>2.0</td>\n",
       "      <td>4.0</td>\n",
       "      <td>5.0</td>\n",
       "    </tr>\n",
       "    <tr>\n",
       "      <th>449</th>\n",
       "      <td>4.0</td>\n",
       "      <td>3.0</td>\n",
       "      <td>5.0</td>\n",
       "      <td>5.0</td>\n",
       "      <td>4.0</td>\n",
       "      <td>4.0</td>\n",
       "      <td>4.0</td>\n",
       "      <td>3.0</td>\n",
       "      <td>4.0</td>\n",
       "      <td>4.0</td>\n",
       "      <td>5.0</td>\n",
       "      <td>4.0</td>\n",
       "      <td>4.0</td>\n",
       "      <td>4.0</td>\n",
       "      <td>4.0</td>\n",
       "    </tr>\n",
       "    <tr>\n",
       "      <th>536</th>\n",
       "      <td>2.0</td>\n",
       "      <td>1.0</td>\n",
       "      <td>5.0</td>\n",
       "      <td>3.0</td>\n",
       "      <td>2.0</td>\n",
       "      <td>4.0</td>\n",
       "      <td>3.0</td>\n",
       "      <td>2.0</td>\n",
       "      <td>1.0</td>\n",
       "      <td>1.0</td>\n",
       "      <td>4.0</td>\n",
       "      <td>5.0</td>\n",
       "      <td>4.0</td>\n",
       "      <td>3.0</td>\n",
       "      <td>4.0</td>\n",
       "    </tr>\n",
       "    <tr>\n",
       "      <th>6</th>\n",
       "      <td>NaN</td>\n",
       "      <td>5.0</td>\n",
       "      <td>5.0</td>\n",
       "      <td>5.0</td>\n",
       "      <td>3.0</td>\n",
       "      <td>4.0</td>\n",
       "      <td>4.0</td>\n",
       "      <td>4.0</td>\n",
       "      <td>1.0</td>\n",
       "      <td>4.0</td>\n",
       "      <td>5.0</td>\n",
       "      <td>5.0</td>\n",
       "      <td>5.0</td>\n",
       "      <td>4.0</td>\n",
       "      <td>5.0</td>\n",
       "    </tr>\n",
       "    <tr>\n",
       "      <th>654</th>\n",
       "      <td>2.0</td>\n",
       "      <td>3.0</td>\n",
       "      <td>5.0</td>\n",
       "      <td>3.0</td>\n",
       "      <td>3.0</td>\n",
       "      <td>2.0</td>\n",
       "      <td>3.0</td>\n",
       "      <td>3.0</td>\n",
       "      <td>3.0</td>\n",
       "      <td>3.0</td>\n",
       "      <td>4.0</td>\n",
       "      <td>3.0</td>\n",
       "      <td>3.0</td>\n",
       "      <td>4.0</td>\n",
       "      <td>3.0</td>\n",
       "    </tr>\n",
       "    <tr>\n",
       "      <th>845</th>\n",
       "      <td>NaN</td>\n",
       "      <td>NaN</td>\n",
       "      <td>5.0</td>\n",
       "      <td>5.0</td>\n",
       "      <td>5.0</td>\n",
       "      <td>3.0</td>\n",
       "      <td>NaN</td>\n",
       "      <td>4.0</td>\n",
       "      <td>3.0</td>\n",
       "      <td>NaN</td>\n",
       "      <td>5.0</td>\n",
       "      <td>5.0</td>\n",
       "      <td>NaN</td>\n",
       "      <td>4.0</td>\n",
       "      <td>NaN</td>\n",
       "    </tr>\n",
       "  </tbody>\n",
       "</table>\n",
       "</div>"
      ],
      "text/plain": [
       "movie_id    0  120  126  173  180  257  285  287  293  299   49   55    6  \\\n",
       "user_id                                                                     \n",
       "12        3.0  5.0  5.0  4.0  5.0  4.0  3.0  1.0  2.0  1.0  5.0  5.0  2.0   \n",
       "180       3.0  4.0  NaN  NaN  NaN  3.0  1.0  4.0  2.0  3.0  NaN  NaN  4.0   \n",
       "233       3.0  NaN  4.0  3.0  3.0  2.0  3.0  3.0  3.0  3.0  4.0  3.0  2.0   \n",
       "275       5.0  4.0  5.0  5.0  5.0  5.0  NaN  4.0  4.0  4.0  5.0  5.0  5.0   \n",
       "278       3.0  4.0  NaN  4.0  3.0  NaN  NaN  3.0  2.0  NaN  3.0  4.0  5.0   \n",
       "302       5.0  3.0  5.0  5.0  5.0  4.0  5.0  4.0  4.0  1.0  5.0  5.0  4.0   \n",
       "392       3.0  4.0  NaN  NaN  4.0  4.0  NaN  3.0  4.0  NaN  5.0  2.0  4.0   \n",
       "404       NaN  NaN  5.0  5.0  5.0  NaN  NaN  5.0  NaN  NaN  5.0  4.0  NaN   \n",
       "415       5.0  5.0  5.0  5.0  5.0  5.0  5.0  5.0  4.0  4.0  5.0  5.0  4.0   \n",
       "428       3.0  3.0  4.0  4.0  5.0  4.0  NaN  3.0  NaN  3.0  5.0  4.0  2.0   \n",
       "449       4.0  3.0  5.0  5.0  4.0  4.0  4.0  3.0  4.0  4.0  5.0  4.0  4.0   \n",
       "536       2.0  1.0  5.0  3.0  2.0  4.0  3.0  2.0  1.0  1.0  4.0  5.0  4.0   \n",
       "6         NaN  5.0  5.0  5.0  3.0  4.0  4.0  4.0  1.0  4.0  5.0  5.0  5.0   \n",
       "654       2.0  3.0  5.0  3.0  3.0  2.0  3.0  3.0  3.0  3.0  4.0  3.0  3.0   \n",
       "845       NaN  NaN  5.0  5.0  5.0  3.0  NaN  4.0  3.0  NaN  5.0  5.0  NaN   \n",
       "\n",
       "movie_id   97   99  \n",
       "user_id             \n",
       "12        4.0  5.0  \n",
       "180       NaN  3.0  \n",
       "233       4.0  4.0  \n",
       "275       5.0  5.0  \n",
       "278       NaN  4.0  \n",
       "302       5.0  5.0  \n",
       "392       NaN  1.0  \n",
       "404       4.0  NaN  \n",
       "415       5.0  5.0  \n",
       "428       4.0  5.0  \n",
       "449       4.0  4.0  \n",
       "536       3.0  4.0  \n",
       "6         4.0  5.0  \n",
       "654       4.0  3.0  \n",
       "845       4.0  NaN  "
      ]
     },
     "execution_count": 21,
     "metadata": {},
     "output_type": "execute_result"
    }
   ],
   "source": [
    "# Look at how top 15 users rated top 15 movies \n",
    "# top = highest counts\n",
    "g1 = ratings.groupby('user_id')['rating'].count()\n",
    "top_users = g1.sort_values(ascending=False)[:15]\n",
    "g2 = ratings.groupby('movie_id')['rating'].count()\n",
    "top_movies = g2.sort_values(ascending=False)[:15]\n",
    "top_r = ratings.join(top_users, rsuffix='_r', how='inner', on='user_id')\n",
    "top_r = top_r.join(top_movies, rsuffix='_r', how='inner', on='movie_id')\n",
    "pd.crosstab(top_r.user_id, top_r.movie_id, top_r.rating, aggfunc=np.sum)"
   ]
  },
  {
   "cell_type": "code",
   "execution_count": 22,
   "metadata": {
    "execution": {
     "iopub.execute_input": "2020-12-09T06:08:40.134611Z",
     "iopub.status.busy": "2020-12-09T06:08:40.133901Z",
     "iopub.status.idle": "2020-12-09T06:08:40.136286Z",
     "shell.execute_reply": "2020-12-09T06:08:40.136865Z"
    },
    "papermill": {
     "duration": 0.064273,
     "end_time": "2020-12-09T06:08:40.137003",
     "exception": false,
     "start_time": "2020-12-09T06:08:40.072730",
     "status": "completed"
    },
    "tags": []
   },
   "outputs": [],
   "source": [
    "# Remove users with low amount of ratings"
   ]
  },
  {
   "cell_type": "code",
   "execution_count": 23,
   "metadata": {
    "execution": {
     "iopub.execute_input": "2020-12-09T06:08:40.256969Z",
     "iopub.status.busy": "2020-12-09T06:08:40.256346Z",
     "iopub.status.idle": "2020-12-09T06:08:40.264669Z",
     "shell.execute_reply": "2020-12-09T06:08:40.263882Z"
    },
    "papermill": {
     "duration": 0.069635,
     "end_time": "2020-12-09T06:08:40.264823",
     "exception": false,
     "start_time": "2020-12-09T06:08:40.195188",
     "status": "completed"
    },
    "tags": []
   },
   "outputs": [
    {
     "name": "stdout",
     "output_type": "stream",
     "text": [
      "Index(['49', '257', '99', '180', '293', '285', '287', '0', '299', '120', '173',\n",
      "       '126', '55', '6', '97'],\n",
      "      dtype='object', name='movie_id')\n",
      "['49', '257', '99', '180', '293', '285', '287', '0', '299', '120', '173', '126', '55', '6', '97']\n"
     ]
    }
   ],
   "source": [
    "# List of all genres\n",
    "movies.columns\n",
    "print(top_movies.index)\n",
    "top_movies_list = top_movies.index.values.tolist()\n",
    "top_movies_list = [str(movie) for movie in top_movies_list]\n",
    "print(top_movies_list)"
   ]
  },
  {
   "cell_type": "code",
   "execution_count": 24,
   "metadata": {
    "execution": {
     "iopub.execute_input": "2020-12-09T06:08:40.391072Z",
     "iopub.status.busy": "2020-12-09T06:08:40.390423Z",
     "iopub.status.idle": "2020-12-09T06:08:40.404508Z",
     "shell.execute_reply": "2020-12-09T06:08:40.405319Z"
    },
    "papermill": {
     "duration": 0.081135,
     "end_time": "2020-12-09T06:08:40.405535",
     "exception": false,
     "start_time": "2020-12-09T06:08:40.324400",
     "status": "completed"
    },
    "tags": []
   },
   "outputs": [
    {
     "name": "stdout",
     "output_type": "stream",
     "text": [
      "    movie_id                             title release_date  \\\n",
      "0          0                  Toy Story (1995)  01-Jan-1995   \n",
      "6          6             Twelve Monkeys (1995)  01-Jan-1995   \n",
      "49        49                  Star Wars (1977)  01-Jan-1977   \n",
      "55        55               Pulp Fiction (1994)  01-Jan-1994   \n",
      "97        97  Silence of the Lambs, The (1991)  01-Jan-1991   \n",
      "99        99                      Fargo (1996)  14-Feb-1997   \n",
      "120      120     Independence Day (ID4) (1996)  03-Jul-1996   \n",
      "126      126             Godfather, The (1972)  01-Jan-1972   \n",
      "173      173    Raiders of the Lost Ark (1981)  01-Jan-1981   \n",
      "180      180         Return of the Jedi (1983)  14-Mar-1997   \n",
      "257      257                    Contact (1997)  11-Jul-1997   \n",
      "285      285       English Patient, The (1996)  15-Nov-1996   \n",
      "287      287                     Scream (1996)  20-Dec-1996   \n",
      "293      293                  Liar Liar (1997)  21-Mar-1997   \n",
      "299      299              Air Force One (1997)  01-Jan-1997   \n",
      "\n",
      "     video_release_date                                           imdb_url  \\\n",
      "0                   NaN  http://us.imdb.com/M/title-exact?Toy%20Story%2...   \n",
      "6                   NaN  http://us.imdb.com/M/title-exact?Twelve%20Monk...   \n",
      "49                  NaN  http://us.imdb.com/M/title-exact?Star%20Wars%2...   \n",
      "55                  NaN  http://us.imdb.com/M/title-exact?Pulp%20Fictio...   \n",
      "97                  NaN  http://us.imdb.com/M/title-exact?Silence%20of%...   \n",
      "99                  NaN    http://us.imdb.com/M/title-exact?Fargo%20(1996)   \n",
      "120                 NaN  http://us.imdb.com/M/title-exact?Independence%...   \n",
      "126                 NaN  http://us.imdb.com/M/title-exact?Godfather,%20...   \n",
      "173                 NaN  http://us.imdb.com/M/title-exact?Raiders%20of%...   \n",
      "180                 NaN  http://us.imdb.com/M/title-exact?Return%20of%2...   \n",
      "257                 NaN          http://us.imdb.com/Title?Contact+(1997/I)   \n",
      "285                 NaN  http://us.imdb.com/M/title-exact?English%20Pat...   \n",
      "287                 NaN   http://us.imdb.com/M/title-exact?Scream%20(1996)   \n",
      "293                 NaN          http://us.imdb.com/Title?Liar+Liar+(1997)   \n",
      "299                 NaN  http://us.imdb.com/M/title-exact?Air+Force+One...   \n",
      "\n",
      "     genre_unknown  Action  Adventure  Animation  Children  ...  Film-Noir  \\\n",
      "0                0       0          0          1         1  ...          0   \n",
      "6                0       0          0          0         0  ...          0   \n",
      "49               0       1          1          0         0  ...          0   \n",
      "55               0       0          0          0         0  ...          0   \n",
      "97               0       0          0          0         0  ...          0   \n",
      "99               0       0          0          0         0  ...          0   \n",
      "120              0       1          0          0         0  ...          0   \n",
      "126              0       1          0          0         0  ...          0   \n",
      "173              0       1          1          0         0  ...          0   \n",
      "180              0       1          1          0         0  ...          0   \n",
      "257              0       0          0          0         0  ...          0   \n",
      "285              0       0          0          0         0  ...          0   \n",
      "287              0       0          0          0         0  ...          0   \n",
      "293              0       0          0          0         0  ...          0   \n",
      "299              0       1          0          0         0  ...          0   \n",
      "\n",
      "     Horror  Musical  Mystery  Romance  Sci-Fi  Thriller  War  Western  year  \n",
      "0         0        0        0        0       0         0    0        0  1995  \n",
      "6         0        0        0        0       1         0    0        0  1995  \n",
      "49        0        0        0        1       1         0    1        0  1977  \n",
      "55        0        0        0        0       0         0    0        0  1994  \n",
      "97        0        0        0        0       0         1    0        0  1991  \n",
      "99        0        0        0        0       0         1    0        0  1997  \n",
      "120       0        0        0        0       1         0    1        0  1996  \n",
      "126       0        0        0        0       0         0    0        0  1972  \n",
      "173       0        0        0        0       0         0    0        0  1981  \n",
      "180       0        0        0        1       1         0    1        0  1997  \n",
      "257       0        0        0        0       1         0    0        0  1997  \n",
      "285       0        0        0        1       0         0    1        0  1996  \n",
      "287       1        0        0        0       0         1    0        0  1996  \n",
      "293       0        0        0        0       0         0    0        0  1997  \n",
      "299       0        0        0        0       0         1    0        0  1997  \n",
      "\n",
      "[15 rows x 25 columns]\n",
      "0                      Toy Story (1995)\n",
      "6                 Twelve Monkeys (1995)\n",
      "49                     Star Wars (1977)\n",
      "55                  Pulp Fiction (1994)\n",
      "97     Silence of the Lambs, The (1991)\n",
      "99                         Fargo (1996)\n",
      "120       Independence Day (ID4) (1996)\n",
      "126               Godfather, The (1972)\n",
      "173      Raiders of the Lost Ark (1981)\n",
      "180           Return of the Jedi (1983)\n",
      "257                      Contact (1997)\n",
      "285         English Patient, The (1996)\n",
      "287                       Scream (1996)\n",
      "293                    Liar Liar (1997)\n",
      "299                Air Force One (1997)\n",
      "Name: title, dtype: object\n"
     ]
    }
   ],
   "source": [
    "top15_movies = movies.loc[movies['movie_id'].isin(top_movies_list)]\n",
    "print(top15_movies)\n",
    "print(top15_movies['title'])"
   ]
  },
  {
   "cell_type": "code",
   "execution_count": 25,
   "metadata": {
    "execution": {
     "iopub.execute_input": "2020-12-09T06:08:40.531413Z",
     "iopub.status.busy": "2020-12-09T06:08:40.530726Z",
     "iopub.status.idle": "2020-12-09T06:08:40.534976Z",
     "shell.execute_reply": "2020-12-09T06:08:40.534442Z"
    },
    "papermill": {
     "duration": 0.065456,
     "end_time": "2020-12-09T06:08:40.535093",
     "exception": false,
     "start_time": "2020-12-09T06:08:40.469637",
     "status": "completed"
    },
    "tags": []
   },
   "outputs": [],
   "source": [
    "# Create combined ratings + titles\n",
    "\n",
    "# Get titles and genre only\n",
    "# labels = ['release_date', 'video_release_date', 'imdb_url', 'year']\n",
    "# titles = movies.drop(columns = labels)\n",
    "# print(titles)\n",
    "# combined_ratings = ratings.join(titles.set_index('movie_id'), on = 'movie_id')\n",
    "# print(type(titles))"
   ]
  },
  {
   "cell_type": "markdown",
   "metadata": {
    "papermill": {
     "duration": 0.058894,
     "end_time": "2020-12-09T06:08:40.652645",
     "exception": false,
     "start_time": "2020-12-09T06:08:40.593751",
     "status": "completed"
    },
    "tags": []
   },
   "source": [
    "## Cleaning up "
   ]
  },
  {
   "cell_type": "markdown",
   "metadata": {
    "papermill": {
     "duration": 0.058302,
     "end_time": "2020-12-09T06:08:40.769328",
     "exception": false,
     "start_time": "2020-12-09T06:08:40.711026",
     "status": "completed"
    },
    "tags": []
   },
   "source": [
    "Feature engineering ? lol"
   ]
  },
  {
   "cell_type": "code",
   "execution_count": 26,
   "metadata": {
    "execution": {
     "iopub.execute_input": "2020-12-09T06:08:40.891888Z",
     "iopub.status.busy": "2020-12-09T06:08:40.891241Z",
     "iopub.status.idle": "2020-12-09T06:08:40.899129Z",
     "shell.execute_reply": "2020-12-09T06:08:40.900083Z"
    },
    "papermill": {
     "duration": 0.072467,
     "end_time": "2020-12-09T06:08:40.900329",
     "exception": false,
     "start_time": "2020-12-09T06:08:40.827862",
     "status": "completed"
    },
    "tags": []
   },
   "outputs": [
    {
     "name": "stdout",
     "output_type": "stream",
     "text": [
      "          rating\n",
      "movie_id        \n",
      "1640           1\n",
      "1674           1\n",
      "1673           1\n",
      "1672           1\n",
      "1605           1\n",
      "...          ...\n",
      "293          485\n",
      "180          507\n",
      "99           508\n",
      "257          509\n",
      "49           583\n",
      "\n",
      "[1682 rows x 1 columns]\n"
     ]
    }
   ],
   "source": [
    "# Remove movies that have very little ratings\n",
    "\n",
    "movie_counts = g2.sort_values(ascending=True)\n",
    "movie_counts = movie_counts.to_frame()\n",
    "print(movie_counts)"
   ]
  },
  {
   "cell_type": "code",
   "execution_count": null,
   "metadata": {
    "execution": {
     "iopub.execute_input": "2020-12-09T06:08:41.032771Z",
     "iopub.status.busy": "2020-12-09T06:08:41.031486Z",
     "iopub.status.idle": "2020-12-09T06:08:41.406700Z",
     "shell.execute_reply": "2020-12-09T06:08:41.407222Z"
    },
    "papermill": {
     "duration": 0.446334,
     "end_time": "2020-12-09T06:08:41.407367",
     "exception": false,
     "start_time": "2020-12-09T06:08:40.961033",
     "status": "completed"
    },
    "tags": []
   },
   "outputs": [],
   "source": [
    "\n"
   ]
  },
  {
   "cell_type": "code",
   "execution_count": 27,
   "metadata": {
    "execution": {
     "iopub.execute_input": "2020-12-09T06:08:41.534001Z",
     "iopub.status.busy": "2020-12-09T06:08:41.533347Z",
     "iopub.status.idle": "2020-12-09T06:08:41.540735Z",
     "shell.execute_reply": "2020-12-09T06:08:41.539818Z"
    },
    "papermill": {
     "duration": 0.071708,
     "end_time": "2020-12-09T06:08:41.540889",
     "exception": false,
     "start_time": "2020-12-09T06:08:41.469181",
     "status": "completed"
    },
    "tags": []
   },
   "outputs": [
    {
     "name": "stdout",
     "output_type": "stream",
     "text": [
      "Index(['1640', '1674', '1673', '1672', '1605', '1328', '1670', '1362', '1675',\n",
      "       '1669',\n",
      "       ...\n",
      "       '120', '299', '0', '287', '285', '293', '180', '99', '257', '49'],\n",
      "      dtype='object', name='movie_id', length=1682)\n"
     ]
    }
   ],
   "source": [
    "print(movie_counts.index)"
   ]
  },
  {
   "cell_type": "code",
   "execution_count": null,
   "metadata": {
    "execution": {
     "iopub.execute_input": "2020-12-09T06:08:41.682764Z",
     "iopub.status.busy": "2020-12-09T06:08:41.682076Z",
     "iopub.status.idle": "2020-12-09T06:08:41.685008Z",
     "shell.execute_reply": "2020-12-09T06:08:41.684450Z"
    },
    "papermill": {
     "duration": 0.069715,
     "end_time": "2020-12-09T06:08:41.685122",
     "exception": false,
     "start_time": "2020-12-09T06:08:41.615407",
     "status": "completed"
    },
    "tags": []
   },
   "outputs": [],
   "source": [
    "\n",
    "    "
   ]
  },
  {
   "cell_type": "markdown",
   "metadata": {
    "papermill": {
     "duration": 0.061387,
     "end_time": "2020-12-09T06:08:41.808293",
     "exception": false,
     "start_time": "2020-12-09T06:08:41.746906",
     "status": "completed"
    },
    "tags": []
   },
   "source": [
    "These work but have to re-run script b/c if ran once, then df saves with new changes already"
   ]
  },
  {
   "cell_type": "markdown",
   "metadata": {
    "papermill": {
     "duration": 0.061196,
     "end_time": "2020-12-09T06:08:41.930925",
     "exception": false,
     "start_time": "2020-12-09T06:08:41.869729",
     "status": "completed"
    },
    "tags": []
   },
   "source": [
    "There are only 5 ratings: 1, 2, 3, 4, 5"
   ]
  },
  {
   "cell_type": "markdown",
   "metadata": {
    "papermill": {
     "duration": 0.061625,
     "end_time": "2020-12-09T06:08:42.053968",
     "exception": false,
     "start_time": "2020-12-09T06:08:41.992343",
     "status": "completed"
    },
    "tags": []
   },
   "source": [
    "# Preprocessing"
   ]
  },
  {
   "cell_type": "markdown",
   "metadata": {
    "papermill": {
     "duration": 0.062802,
     "end_time": "2020-12-09T06:08:42.178650",
     "exception": false,
     "start_time": "2020-12-09T06:08:42.115848",
     "status": "completed"
    },
    "tags": []
   },
   "source": [
    "# Begin here"
   ]
  },
  {
   "cell_type": "code",
   "execution_count": null,
   "metadata": {
    "papermill": {
     "duration": 0.06202,
     "end_time": "2020-12-09T06:08:42.302027",
     "exception": false,
     "start_time": "2020-12-09T06:08:42.240007",
     "status": "completed"
    },
    "tags": []
   },
   "outputs": [],
   "source": []
  },
  {
   "cell_type": "code",
   "execution_count": 28,
   "metadata": {
    "execution": {
     "iopub.execute_input": "2020-12-09T06:08:42.431904Z",
     "iopub.status.busy": "2020-12-09T06:08:42.431202Z",
     "iopub.status.idle": "2020-12-09T06:08:43.397856Z",
     "shell.execute_reply": "2020-12-09T06:08:43.397003Z"
    },
    "papermill": {
     "duration": 1.034826,
     "end_time": "2020-12-09T06:08:43.398010",
     "exception": false,
     "start_time": "2020-12-09T06:08:42.363184",
     "status": "completed"
    },
    "tags": []
   },
   "outputs": [
    {
     "name": "stdout",
     "output_type": "stream",
     "text": [
      "        user_id  movie_id  rating  unix_timestamp\n",
      "0           943         0     5.0               0\n",
      "1           943         7     5.0               0\n",
      "2           943        62     5.0               0\n",
      "3           943        70     5.0               0\n",
      "4           943        34     5.0               0\n",
      "...         ...       ...     ...             ...\n",
      "100005      879       475     3.0       880175444\n",
      "100006      715       203     5.0       879795543\n",
      "100007      275      1089     1.0       874795795\n",
      "100008       12       224     2.0       882399156\n",
      "100009       11       202     3.0       879959583\n",
      "\n",
      "[100010 rows x 4 columns]\n"
     ]
    },
    {
     "data": {
      "text/plain": [
       "(945, 1682)"
      ]
     },
     "execution_count": 28,
     "metadata": {},
     "output_type": "execute_result"
    }
   ],
   "source": [
    "from sklearn.preprocessing import LabelEncoder\n",
    "\n",
    "# user_enc = LabelEncoder()\n",
    "# ratings['user'] = user_enc.fit_transform(ratings['user_id'].values)\n",
    "# item_enc = LabelEncoder()\n",
    "# ratings['movie'] = item_enc.fit_transform(ratings['movie_id'].values)\n",
    "# min_rating = min(ratings['rating'])\n",
    "# max_rating = max(ratings['rating'])\n",
    "\n",
    "# Get unique users, movies\n",
    "num_users = ratings['user_id'].nunique()+1\n",
    "num_movies = ratings['movie_id'].nunique()\n",
    "\n",
    "ratings['movie_id'] = ratings['movie_id'].values.astype(int)\n",
    "ratings['user_id'] = ratings['user_id'].values.astype(int)\n",
    "\n",
    "print(ratings)\n",
    "num_users, num_movies"
   ]
  },
  {
   "cell_type": "code",
   "execution_count": 29,
   "metadata": {
    "execution": {
     "iopub.execute_input": "2020-12-09T06:08:43.530922Z",
     "iopub.status.busy": "2020-12-09T06:08:43.530270Z",
     "iopub.status.idle": "2020-12-09T06:08:43.551918Z",
     "shell.execute_reply": "2020-12-09T06:08:43.551318Z"
    },
    "papermill": {
     "duration": 0.090946,
     "end_time": "2020-12-09T06:08:43.552033",
     "exception": false,
     "start_time": "2020-12-09T06:08:43.461087",
     "status": "completed"
    },
    "tags": []
   },
   "outputs": [
    {
     "data": {
      "text/html": [
       "<div>\n",
       "<style scoped>\n",
       "    .dataframe tbody tr th:only-of-type {\n",
       "        vertical-align: middle;\n",
       "    }\n",
       "\n",
       "    .dataframe tbody tr th {\n",
       "        vertical-align: top;\n",
       "    }\n",
       "\n",
       "    .dataframe thead th {\n",
       "        text-align: right;\n",
       "    }\n",
       "</style>\n",
       "<table border=\"1\" class=\"dataframe\">\n",
       "  <thead>\n",
       "    <tr style=\"text-align: right;\">\n",
       "      <th></th>\n",
       "      <th>user_id</th>\n",
       "      <th>movie_id</th>\n",
       "      <th>rating</th>\n",
       "      <th>unix_timestamp</th>\n",
       "    </tr>\n",
       "  </thead>\n",
       "  <tbody>\n",
       "    <tr>\n",
       "      <th>69953</th>\n",
       "      <td>673</td>\n",
       "      <td>256</td>\n",
       "      <td>4.0</td>\n",
       "      <td>887762641</td>\n",
       "    </tr>\n",
       "    <tr>\n",
       "      <th>98997</th>\n",
       "      <td>845</td>\n",
       "      <td>941</td>\n",
       "      <td>4.0</td>\n",
       "      <td>883948765</td>\n",
       "    </tr>\n",
       "    <tr>\n",
       "      <th>41204</th>\n",
       "      <td>39</td>\n",
       "      <td>309</td>\n",
       "      <td>3.0</td>\n",
       "      <td>889041283</td>\n",
       "    </tr>\n",
       "    <tr>\n",
       "      <th>71363</th>\n",
       "      <td>715</td>\n",
       "      <td>198</td>\n",
       "      <td>4.0</td>\n",
       "      <td>879796096</td>\n",
       "    </tr>\n",
       "    <tr>\n",
       "      <th>14010</th>\n",
       "      <td>313</td>\n",
       "      <td>1056</td>\n",
       "      <td>2.0</td>\n",
       "      <td>877887035</td>\n",
       "    </tr>\n",
       "    <tr>\n",
       "      <th>...</th>\n",
       "      <td>...</td>\n",
       "      <td>...</td>\n",
       "      <td>...</td>\n",
       "      <td>...</td>\n",
       "    </tr>\n",
       "    <tr>\n",
       "      <th>30591</th>\n",
       "      <td>188</td>\n",
       "      <td>655</td>\n",
       "      <td>4.0</td>\n",
       "      <td>893265568</td>\n",
       "    </tr>\n",
       "    <tr>\n",
       "      <th>40906</th>\n",
       "      <td>550</td>\n",
       "      <td>1168</td>\n",
       "      <td>4.0</td>\n",
       "      <td>892778297</td>\n",
       "    </tr>\n",
       "    <tr>\n",
       "      <th>71056</th>\n",
       "      <td>484</td>\n",
       "      <td>268</td>\n",
       "      <td>4.0</td>\n",
       "      <td>891040493</td>\n",
       "    </tr>\n",
       "    <tr>\n",
       "      <th>50247</th>\n",
       "      <td>746</td>\n",
       "      <td>172</td>\n",
       "      <td>3.0</td>\n",
       "      <td>888640862</td>\n",
       "    </tr>\n",
       "    <tr>\n",
       "      <th>28011</th>\n",
       "      <td>194</td>\n",
       "      <td>412</td>\n",
       "      <td>3.0</td>\n",
       "      <td>885110849</td>\n",
       "    </tr>\n",
       "  </tbody>\n",
       "</table>\n",
       "<p>100010 rows × 4 columns</p>\n",
       "</div>"
      ],
      "text/plain": [
       "       user_id  movie_id  rating  unix_timestamp\n",
       "69953      673       256     4.0       887762641\n",
       "98997      845       941     4.0       883948765\n",
       "41204       39       309     3.0       889041283\n",
       "71363      715       198     4.0       879796096\n",
       "14010      313      1056     2.0       877887035\n",
       "...        ...       ...     ...             ...\n",
       "30591      188       655     4.0       893265568\n",
       "40906      550      1168     4.0       892778297\n",
       "71056      484       268     4.0       891040493\n",
       "50247      746       172     3.0       888640862\n",
       "28011      194       412     3.0       885110849\n",
       "\n",
       "[100010 rows x 4 columns]"
      ]
     },
     "execution_count": 29,
     "metadata": {},
     "output_type": "execute_result"
    }
   ],
   "source": [
    "ratings.sample(frac = 1)"
   ]
  },
  {
   "cell_type": "markdown",
   "metadata": {
    "papermill": {
     "duration": 0.062967,
     "end_time": "2020-12-09T06:08:43.678376",
     "exception": false,
     "start_time": "2020-12-09T06:08:43.615409",
     "status": "completed"
    },
    "tags": []
   },
   "source": [
    "Train/test split"
   ]
  },
  {
   "cell_type": "code",
   "execution_count": 30,
   "metadata": {
    "execution": {
     "iopub.execute_input": "2020-12-09T06:08:43.815374Z",
     "iopub.status.busy": "2020-12-09T06:08:43.814623Z",
     "iopub.status.idle": "2020-12-09T06:08:49.463637Z",
     "shell.execute_reply": "2020-12-09T06:08:49.463066Z"
    },
    "papermill": {
     "duration": 5.721385,
     "end_time": "2020-12-09T06:08:49.463751",
     "exception": false,
     "start_time": "2020-12-09T06:08:43.742366",
     "status": "completed"
    },
    "tags": []
   },
   "outputs": [
    {
     "name": "stdout",
     "output_type": "stream",
     "text": [
      "[[0. 0. 0. 0. 1.]\n",
      " [0. 0. 0. 0. 1.]\n",
      " [0. 0. 0. 0. 1.]\n",
      " ...\n",
      " [1. 0. 0. 0. 0.]\n",
      " [0. 1. 0. 0. 0.]\n",
      " [0. 0. 1. 0. 0.]]\n",
      "[[631  53]\n",
      " [275 539]\n",
      " [178 690]\n",
      " ...\n",
      " [772 789]\n",
      " [172 327]\n",
      " [286 290]]\n"
     ]
    },
    {
     "name": "stderr",
     "output_type": "stream",
     "text": [
      "/Users/janine/opt/anaconda3/lib/python3.8/site-packages/sklearn/utils/validation.py:73: DataConversionWarning: A column-vector y was passed when a 1d array was expected. Please change the shape of y to (n_samples, ), for example using ravel().\n",
      "  return f(**kwargs)\n"
     ]
    }
   ],
   "source": [
    "import keras\n",
    "from sklearn.model_selection import train_test_split\n",
    "from keras.utils import np_utils\n",
    "\n",
    "X = ratings[['user_id', 'movie_id']].values # Input = user and movie\n",
    "#X = ratings[['user', 'movie']].values # Input = user and movie\n",
    "y = ratings[['rating']].values # Output = rating\n",
    "\n",
    "# One hot encode output (ratings)\n",
    "ratings_enc = LabelEncoder()\n",
    "ratings_enc.fit(y)\n",
    "encoded_ratings = ratings_enc.transform(y)\n",
    "encoded_ratings = np_utils.to_categorical(encoded_ratings)\n",
    "print(encoded_ratings)\n",
    "\n",
    "# Train/test split\n",
    "X_train, X_test, y_train, y_test = train_test_split(X, encoded_ratings, test_size = 0.2, random_state = 42)\n",
    "\n",
    "# Put user and movies into their own arrays (for Keras)\n",
    "X_train_arrs = [X_train[:, 0], X_train[:, 1]]\n",
    "X_test_arrs = [X_test[:, 0], X_test[:, 1]]\n",
    "\n",
    "print(X_train)"
   ]
  },
  {
   "cell_type": "code",
   "execution_count": null,
   "metadata": {
    "papermill": {
     "duration": 0.063781,
     "end_time": "2020-12-09T06:08:49.595116",
     "exception": false,
     "start_time": "2020-12-09T06:08:49.531335",
     "status": "completed"
    },
    "tags": []
   },
   "outputs": [],
   "source": []
  },
  {
   "cell_type": "markdown",
   "metadata": {
    "papermill": {
     "duration": 0.063056,
     "end_time": "2020-12-09T06:08:49.722077",
     "exception": false,
     "start_time": "2020-12-09T06:08:49.659021",
     "status": "completed"
    },
    "tags": []
   },
   "source": [
    "# Neural Net model"
   ]
  },
  {
   "cell_type": "code",
   "execution_count": 31,
   "metadata": {
    "execution": {
     "iopub.execute_input": "2020-12-09T06:08:49.856945Z",
     "iopub.status.busy": "2020-12-09T06:08:49.855955Z",
     "iopub.status.idle": "2020-12-09T06:08:49.859265Z",
     "shell.execute_reply": "2020-12-09T06:08:49.858700Z"
    },
    "papermill": {
     "duration": 0.073115,
     "end_time": "2020-12-09T06:08:49.859379",
     "exception": false,
     "start_time": "2020-12-09T06:08:49.786264",
     "status": "completed"
    },
    "tags": []
   },
   "outputs": [],
   "source": [
    "from tensorflow.keras import Sequential, Model\n",
    "from tensorflow.keras.layers import Dense, Embedding, Dot, Input, Reshape, Lambda, Concatenate, Add, Dropout\n",
    "from tensorflow.keras.regularizers import l2\n",
    "from tensorflow.keras.optimizers import Adam\n",
    "\n",
    "num_factors = 50\n"
   ]
  },
  {
   "cell_type": "markdown",
   "metadata": {
    "papermill": {
     "duration": 0.064612,
     "end_time": "2020-12-09T06:08:49.988824",
     "exception": false,
     "start_time": "2020-12-09T06:08:49.924212",
     "status": "completed"
    },
    "tags": []
   },
   "source": [
    "### Embedding layers"
   ]
  },
  {
   "cell_type": "markdown",
   "metadata": {
    "papermill": {
     "duration": 0.063378,
     "end_time": "2020-12-09T06:08:50.117331",
     "exception": false,
     "start_time": "2020-12-09T06:08:50.053953",
     "status": "completed"
    },
    "tags": []
   },
   "source": [
    "An embedding allows for categorical values (movie titles) to be mapped to numerical representations."
   ]
  },
  {
   "cell_type": "code",
   "execution_count": 32,
   "metadata": {
    "execution": {
     "iopub.execute_input": "2020-12-09T06:08:50.259744Z",
     "iopub.status.busy": "2020-12-09T06:08:50.259039Z",
     "iopub.status.idle": "2020-12-09T06:08:50.381496Z",
     "shell.execute_reply": "2020-12-09T06:08:50.381979Z"
    },
    "papermill": {
     "duration": 0.198508,
     "end_time": "2020-12-09T06:08:50.382133",
     "exception": false,
     "start_time": "2020-12-09T06:08:50.183625",
     "status": "completed"
    },
    "tags": []
   },
   "outputs": [],
   "source": [
    "# User embedding\n",
    "user_input = Input(shape = (1,))\n",
    "#layer_embed_users = embed_layer(user_input, num_users, num_factors)\n",
    "layer_embed_users = Embedding(\n",
    "    name = 'user_embedding',\n",
    "    input_dim = num_users, \n",
    "    output_dim = num_factors, \n",
    "    embeddings_initializer = 'he_normal', \n",
    "    embeddings_regularizer = l2(1e-6))(user_input)\n",
    "layer_embed_users = Reshape(target_shape = ((num_factors),))(layer_embed_users) # why is target_shape = 50??\n",
    "\n",
    "# Movie embedding\n",
    "movie_input = Input(shape = (1,))\n",
    "#layer_embed_movies = embed_layer(user_input, num_movies, num_factors)\n",
    "layer_embed_movies = Embedding(\n",
    "    name = 'movie_embedding',\n",
    "    input_dim = num_movies, \n",
    "    output_dim = num_factors, \n",
    "    embeddings_initializer = 'he_normal', \n",
    "    embeddings_regularizer = l2(1e-6))(movie_input)\n",
    "layer_embed_movies = Reshape(target_shape = ((num_factors),))(layer_embed_movies)\n"
   ]
  },
  {
   "cell_type": "code",
   "execution_count": 33,
   "metadata": {
    "execution": {
     "iopub.execute_input": "2020-12-09T06:08:50.513966Z",
     "iopub.status.busy": "2020-12-09T06:08:50.512983Z",
     "iopub.status.idle": "2020-12-09T06:08:50.558017Z",
     "shell.execute_reply": "2020-12-09T06:08:50.557406Z"
    },
    "papermill": {
     "duration": 0.112198,
     "end_time": "2020-12-09T06:08:50.558126",
     "exception": false,
     "start_time": "2020-12-09T06:08:50.445928",
     "status": "completed"
    },
    "tags": []
   },
   "outputs": [],
   "source": [
    "layer_embed_users = Dropout(0.5)(layer_embed_users)\n",
    "layer_embed_movies = Dropout(0.5)(layer_embed_movies)"
   ]
  },
  {
   "cell_type": "markdown",
   "metadata": {
    "papermill": {
     "duration": 0.063749,
     "end_time": "2020-12-09T06:08:50.686115",
     "exception": false,
     "start_time": "2020-12-09T06:08:50.622366",
     "status": "completed"
    },
    "tags": []
   },
   "source": [
    "Merge the two embedding spaces together into a single layer"
   ]
  },
  {
   "cell_type": "code",
   "execution_count": 34,
   "metadata": {
    "execution": {
     "iopub.execute_input": "2020-12-09T06:08:50.823637Z",
     "iopub.status.busy": "2020-12-09T06:08:50.822172Z",
     "iopub.status.idle": "2020-12-09T06:08:50.836515Z",
     "shell.execute_reply": "2020-12-09T06:08:50.835844Z"
    },
    "papermill": {
     "duration": 0.086445,
     "end_time": "2020-12-09T06:08:50.836627",
     "exception": false,
     "start_time": "2020-12-09T06:08:50.750182",
     "status": "completed"
    },
    "tags": []
   },
   "outputs": [],
   "source": [
    "layer = Concatenate()([layer_embed_users, layer_embed_movies])\n",
    "layer = Dropout(0.5)(layer)"
   ]
  },
  {
   "cell_type": "code",
   "execution_count": 35,
   "metadata": {
    "execution": {
     "iopub.execute_input": "2020-12-09T06:08:50.971610Z",
     "iopub.status.busy": "2020-12-09T06:08:50.970942Z",
     "iopub.status.idle": "2020-12-09T06:08:50.973555Z",
     "shell.execute_reply": "2020-12-09T06:08:50.974451Z"
    },
    "papermill": {
     "duration": 0.073538,
     "end_time": "2020-12-09T06:08:50.974620",
     "exception": false,
     "start_time": "2020-12-09T06:08:50.901082",
     "status": "completed"
    },
    "tags": []
   },
   "outputs": [
    {
     "name": "stdout",
     "output_type": "stream",
     "text": [
      "Tensor(\"dropout_2/cond/Identity:0\", shape=(None, 100), dtype=float32)\n"
     ]
    }
   ],
   "source": [
    "print(layer)"
   ]
  },
  {
   "cell_type": "markdown",
   "metadata": {
    "papermill": {
     "duration": 0.064684,
     "end_time": "2020-12-09T06:08:51.106618",
     "exception": false,
     "start_time": "2020-12-09T06:08:51.041934",
     "status": "completed"
    },
    "tags": []
   },
   "source": [
    "### Other layers ???"
   ]
  },
  {
   "cell_type": "code",
   "execution_count": 36,
   "metadata": {
    "execution": {
     "iopub.execute_input": "2020-12-09T06:08:51.240052Z",
     "iopub.status.busy": "2020-12-09T06:08:51.239429Z",
     "iopub.status.idle": "2020-12-09T06:08:51.263445Z",
     "shell.execute_reply": "2020-12-09T06:08:51.262872Z"
    },
    "papermill": {
     "duration": 0.091987,
     "end_time": "2020-12-09T06:08:51.263560",
     "exception": false,
     "start_time": "2020-12-09T06:08:51.171573",
     "status": "completed"
    },
    "tags": []
   },
   "outputs": [],
   "source": [
    "layer = Dense(128, activation='relu', kernel_initializer='he_normal')(layer)\n",
    "layer = Dropout(0.5)(layer)\n",
    "# layer = Dense(10, activation='relu', kernel_initializer='he_normal')(layer)\n",
    "# layer = Dropout(0.5)(layer)"
   ]
  },
  {
   "cell_type": "markdown",
   "metadata": {
    "papermill": {
     "duration": 0.064604,
     "end_time": "2020-12-09T06:08:51.393358",
     "exception": false,
     "start_time": "2020-12-09T06:08:51.328754",
     "status": "completed"
    },
    "tags": []
   },
   "source": [
    "### Softmax (final layer)"
   ]
  },
  {
   "cell_type": "code",
   "execution_count": 37,
   "metadata": {
    "execution": {
     "iopub.execute_input": "2020-12-09T06:08:51.530896Z",
     "iopub.status.busy": "2020-12-09T06:08:51.530203Z",
     "iopub.status.idle": "2020-12-09T06:08:51.547780Z",
     "shell.execute_reply": "2020-12-09T06:08:51.547095Z"
    },
    "papermill": {
     "duration": 0.089202,
     "end_time": "2020-12-09T06:08:51.547891",
     "exception": false,
     "start_time": "2020-12-09T06:08:51.458689",
     "status": "completed"
    },
    "tags": []
   },
   "outputs": [],
   "source": [
    "final_layer = Dense(5, activation = 'softmax')(layer)\n",
    "#final_layer = Lambda(lambda final_layer: final_layer * (max_rating - min_rating) + min_rating)(final_layer)\n"
   ]
  },
  {
   "cell_type": "markdown",
   "metadata": {
    "papermill": {
     "duration": 0.06608,
     "end_time": "2020-12-09T06:08:51.680732",
     "exception": false,
     "start_time": "2020-12-09T06:08:51.614652",
     "status": "completed"
    },
    "tags": []
   },
   "source": [
    "### Create model"
   ]
  },
  {
   "cell_type": "code",
   "execution_count": 38,
   "metadata": {
    "execution": {
     "iopub.execute_input": "2020-12-09T06:08:51.820509Z",
     "iopub.status.busy": "2020-12-09T06:08:51.819819Z",
     "iopub.status.idle": "2020-12-09T06:08:51.838188Z",
     "shell.execute_reply": "2020-12-09T06:08:51.837484Z"
    },
    "papermill": {
     "duration": 0.091992,
     "end_time": "2020-12-09T06:08:51.838301",
     "exception": false,
     "start_time": "2020-12-09T06:08:51.746309",
     "status": "completed"
    },
    "tags": []
   },
   "outputs": [],
   "source": [
    "# Make neural net model using layers\n",
    "nn_model = Model(inputs = [user_input, movie_input], outputs = final_layer)\n",
    "\n",
    "from tensorflow.keras.metrics import CategoricalCrossentropy\n",
    "\n",
    "# Compile model\n",
    "nn_model.compile(optimizer = 'Adam', loss = 'categorical_crossentropy', metrics = ['accuracy']) # LOSS ONLY FOR SOFTMAX (NOT WORKING)\n",
    "#nn_model.compile(optimizer = Adam(lr = 0.001), loss = 'mean_squared_error', metrics = ['accuracy'])"
   ]
  },
  {
   "cell_type": "markdown",
   "metadata": {
    "papermill": {
     "duration": 0.065115,
     "end_time": "2020-12-09T06:08:51.968776",
     "exception": false,
     "start_time": "2020-12-09T06:08:51.903661",
     "status": "completed"
    },
    "tags": []
   },
   "source": [
    "^^ tried loss = binary_crossentropy but very, very low accuracy lol (< 0.07)"
   ]
  },
  {
   "cell_type": "code",
   "execution_count": 39,
   "metadata": {
    "execution": {
     "iopub.execute_input": "2020-12-09T06:08:52.123137Z",
     "iopub.status.busy": "2020-12-09T06:08:52.122170Z",
     "iopub.status.idle": "2020-12-09T06:08:52.138177Z",
     "shell.execute_reply": "2020-12-09T06:08:52.136771Z"
    },
    "papermill": {
     "duration": 0.096649,
     "end_time": "2020-12-09T06:08:52.138414",
     "exception": false,
     "start_time": "2020-12-09T06:08:52.041765",
     "status": "completed"
    },
    "tags": []
   },
   "outputs": [
    {
     "name": "stdout",
     "output_type": "stream",
     "text": [
      "Model: \"functional_1\"\n",
      "__________________________________________________________________________________________________\n",
      "Layer (type)                    Output Shape         Param #     Connected to                     \n",
      "==================================================================================================\n",
      "input_1 (InputLayer)            [(None, 1)]          0                                            \n",
      "__________________________________________________________________________________________________\n",
      "input_2 (InputLayer)            [(None, 1)]          0                                            \n",
      "__________________________________________________________________________________________________\n",
      "user_embedding (Embedding)      (None, 1, 50)        47250       input_1[0][0]                    \n",
      "__________________________________________________________________________________________________\n",
      "movie_embedding (Embedding)     (None, 1, 50)        84100       input_2[0][0]                    \n",
      "__________________________________________________________________________________________________\n",
      "reshape (Reshape)               (None, 50)           0           user_embedding[0][0]             \n",
      "__________________________________________________________________________________________________\n",
      "reshape_1 (Reshape)             (None, 50)           0           movie_embedding[0][0]            \n",
      "__________________________________________________________________________________________________\n",
      "dropout (Dropout)               (None, 50)           0           reshape[0][0]                    \n",
      "__________________________________________________________________________________________________\n",
      "dropout_1 (Dropout)             (None, 50)           0           reshape_1[0][0]                  \n",
      "__________________________________________________________________________________________________\n",
      "concatenate (Concatenate)       (None, 100)          0           dropout[0][0]                    \n",
      "                                                                 dropout_1[0][0]                  \n",
      "__________________________________________________________________________________________________\n",
      "dropout_2 (Dropout)             (None, 100)          0           concatenate[0][0]                \n",
      "__________________________________________________________________________________________________\n",
      "dense (Dense)                   (None, 128)          12928       dropout_2[0][0]                  \n",
      "__________________________________________________________________________________________________\n",
      "dropout_3 (Dropout)             (None, 128)          0           dense[0][0]                      \n",
      "__________________________________________________________________________________________________\n",
      "dense_1 (Dense)                 (None, 5)            645         dropout_3[0][0]                  \n",
      "==================================================================================================\n",
      "Total params: 144,923\n",
      "Trainable params: 144,923\n",
      "Non-trainable params: 0\n",
      "__________________________________________________________________________________________________\n"
     ]
    }
   ],
   "source": [
    "nn_model.summary()"
   ]
  },
  {
   "cell_type": "markdown",
   "metadata": {
    "papermill": {
     "duration": 0.066975,
     "end_time": "2020-12-09T06:08:52.278414",
     "exception": false,
     "start_time": "2020-12-09T06:08:52.211439",
     "status": "completed"
    },
    "tags": []
   },
   "source": [
    "Fit the model\n",
    "\n",
    "Want loss --> 0, accuracy --> 1"
   ]
  },
  {
   "cell_type": "code",
   "execution_count": 40,
   "metadata": {
    "execution": {
     "iopub.execute_input": "2020-12-09T06:08:52.419758Z",
     "iopub.status.busy": "2020-12-09T06:08:52.419097Z",
     "iopub.status.idle": "2020-12-09T06:09:11.096973Z",
     "shell.execute_reply": "2020-12-09T06:09:11.096448Z"
    },
    "papermill": {
     "duration": 18.749075,
     "end_time": "2020-12-09T06:09:11.097090",
     "exception": false,
     "start_time": "2020-12-09T06:08:52.348015",
     "status": "completed"
    },
    "tags": []
   },
   "outputs": [
    {
     "name": "stdout",
     "output_type": "stream",
     "text": [
      "Epoch 1/10\n"
     ]
    },
    {
     "name": "stderr",
     "output_type": "stream",
     "text": [
      "/Users/janine/opt/anaconda3/lib/python3.8/site-packages/tensorflow/python/framework/indexed_slices.py:432: UserWarning: Converting sparse IndexedSlices to a dense Tensor of unknown shape. This may consume a large amount of memory.\n",
      "  warnings.warn(\n"
     ]
    },
    {
     "name": "stdout",
     "output_type": "stream",
     "text": [
      "626/626 [==============================] - 1s 2ms/step - loss: 1.4360 - accuracy: 0.3521 - val_loss: 1.3359 - val_accuracy: 0.4145\n",
      "Epoch 2/10\n",
      "626/626 [==============================] - 1s 1ms/step - loss: 1.3349 - accuracy: 0.4046 - val_loss: 1.2880 - val_accuracy: 0.4359\n",
      "Epoch 3/10\n",
      "626/626 [==============================] - 1s 1ms/step - loss: 1.3002 - accuracy: 0.4237 - val_loss: 1.2737 - val_accuracy: 0.4395\n",
      "Epoch 4/10\n",
      "626/626 [==============================] - 1s 1ms/step - loss: 1.2864 - accuracy: 0.4298 - val_loss: 1.2673 - val_accuracy: 0.4450\n",
      "Epoch 5/10\n",
      "626/626 [==============================] - 1s 1ms/step - loss: 1.2766 - accuracy: 0.4311 - val_loss: 1.2651 - val_accuracy: 0.4446\n",
      "Epoch 6/10\n",
      "626/626 [==============================] - 1s 1ms/step - loss: 1.2671 - accuracy: 0.4369 - val_loss: 1.2581 - val_accuracy: 0.4488\n",
      "Epoch 7/10\n",
      "626/626 [==============================] - 1s 1ms/step - loss: 1.2627 - accuracy: 0.4407 - val_loss: 1.2592 - val_accuracy: 0.4463\n",
      "Epoch 8/10\n",
      "626/626 [==============================] - 1s 1ms/step - loss: 1.2567 - accuracy: 0.4408 - val_loss: 1.2557 - val_accuracy: 0.4505\n",
      "Epoch 9/10\n",
      "626/626 [==============================] - 1s 1ms/step - loss: 1.2553 - accuracy: 0.4431 - val_loss: 1.2540 - val_accuracy: 0.4498\n",
      "Epoch 10/10\n",
      "626/626 [==============================] - 1s 1ms/step - loss: 1.2507 - accuracy: 0.4432 - val_loss: 1.2500 - val_accuracy: 0.4516\n"
     ]
    },
    {
     "data": {
      "text/plain": [
       "<tensorflow.python.keras.callbacks.History at 0x7fe22685c100>"
      ]
     },
     "execution_count": 40,
     "metadata": {},
     "output_type": "execute_result"
    }
   ],
   "source": [
    "nn_model.fit(X_train_arrs, y_train, batch_size = 128, epochs = 10, verbose = 1, validation_data = (X_test_arrs, y_test))"
   ]
  },
  {
   "cell_type": "markdown",
   "metadata": {
    "papermill": {
     "duration": 0.174686,
     "end_time": "2020-12-09T06:09:11.445703",
     "exception": false,
     "start_time": "2020-12-09T06:09:11.271017",
     "status": "completed"
    },
    "tags": []
   },
   "source": [
    "^^ this model is insanely overfitted ?\n",
    "\n",
    "output: predicted ratings"
   ]
  },
  {
   "cell_type": "code",
   "execution_count": 41,
   "metadata": {
    "execution": {
     "iopub.execute_input": "2020-12-09T06:09:11.797256Z",
     "iopub.status.busy": "2020-12-09T06:09:11.796584Z",
     "iopub.status.idle": "2020-12-09T06:09:11.799625Z",
     "shell.execute_reply": "2020-12-09T06:09:11.799080Z"
    },
    "papermill": {
     "duration": 0.181561,
     "end_time": "2020-12-09T06:09:11.799734",
     "exception": false,
     "start_time": "2020-12-09T06:09:11.618173",
     "status": "completed"
    },
    "tags": []
   },
   "outputs": [],
   "source": [
    "from matplotlib.pyplot import plot\n",
    "\n",
    "#plot(nn_model_fit.history['loss'])\n",
    "#plot(nn_model_fit.history['val_loss'])"
   ]
  },
  {
   "cell_type": "markdown",
   "metadata": {
    "papermill": {
     "duration": 0.174552,
     "end_time": "2020-12-09T06:09:12.146251",
     "exception": false,
     "start_time": "2020-12-09T06:09:11.971699",
     "status": "completed"
    },
    "tags": []
   },
   "source": [
    "# Post-processing data "
   ]
  },
  {
   "cell_type": "markdown",
   "metadata": {
    "papermill": {
     "duration": 0.1747,
     "end_time": "2020-12-09T06:09:12.495617",
     "exception": false,
     "start_time": "2020-12-09T06:09:12.320917",
     "status": "completed"
    },
    "tags": []
   },
   "source": [
    "# Predicting - test"
   ]
  },
  {
   "cell_type": "code",
   "execution_count": 42,
   "metadata": {
    "execution": {
     "iopub.execute_input": "2020-12-09T06:09:12.860726Z",
     "iopub.status.busy": "2020-12-09T06:09:12.859376Z",
     "iopub.status.idle": "2020-12-09T06:09:12.997713Z",
     "shell.execute_reply": "2020-12-09T06:09:12.998239Z"
    },
    "papermill": {
     "duration": 0.325781,
     "end_time": "2020-12-09T06:09:12.998399",
     "exception": false,
     "start_time": "2020-12-09T06:09:12.672618",
     "status": "completed"
    },
    "tags": []
   },
   "outputs": [
    {
     "name": "stdout",
     "output_type": "stream",
     "text": [
      "X=[942], Predicted=[[0.09423702 0.08668949 0.15293738 0.2861716  0.3799645 ]]\n"
     ]
    }
   ],
   "source": [
    "# use ints for both inputs\n",
    "newuser = np.array([[942]]) \n",
    "newmovies = np.array([[5]])\n",
    "to_predict = np.array(X_test_arrs)\n",
    "ynew = nn_model.predict([[newuser, newmovies]]) # for this user, predict output for this movie\n",
    "print(\"X=%s, Predicted=%s\" % (newuser[0], ynew))"
   ]
  },
  {
   "cell_type": "code",
   "execution_count": 43,
   "metadata": {
    "execution": {
     "iopub.execute_input": "2020-12-09T06:09:13.353462Z",
     "iopub.status.busy": "2020-12-09T06:09:13.352614Z",
     "iopub.status.idle": "2020-12-09T06:09:13.355487Z",
     "shell.execute_reply": "2020-12-09T06:09:13.356114Z"
    },
    "papermill": {
     "duration": 0.183306,
     "end_time": "2020-12-09T06:09:13.356307",
     "exception": false,
     "start_time": "2020-12-09T06:09:13.173001",
     "status": "completed"
    },
    "tags": []
   },
   "outputs": [
    {
     "name": "stdout",
     "output_type": "stream",
     "text": [
      "<class 'numpy.ndarray'>\n"
     ]
    }
   ],
   "source": [
    "print(type(newmovies))"
   ]
  },
  {
   "cell_type": "code",
   "execution_count": 44,
   "metadata": {
    "execution": {
     "iopub.execute_input": "2020-12-09T06:09:13.716607Z",
     "iopub.status.busy": "2020-12-09T06:09:13.713539Z",
     "iopub.status.idle": "2020-12-09T06:09:13.737936Z",
     "shell.execute_reply": "2020-12-09T06:09:13.737380Z"
    },
    "papermill": {
     "duration": 0.208793,
     "end_time": "2020-12-09T06:09:13.738060",
     "exception": false,
     "start_time": "2020-12-09T06:09:13.529267",
     "status": "completed"
    },
    "tags": []
   },
   "outputs": [
    {
     "name": "stdout",
     "output_type": "stream",
     "text": [
      "       user_id  movie_id  rating  unix_timestamp\n",
      "42969        1       310     5.0       888552084\n",
      "76014        1       271     5.0       888979061\n",
      "24022        1       241     5.0       888552084\n",
      "25226        1       282     5.0       888552084\n",
      "59524        1       126     5.0       888552084\n",
      "...        ...       ...     ...             ...\n",
      "39572        1         9     2.0       888551853\n",
      "36344        1       308     1.0       888980029\n",
      "35347        1       293     1.0       888551648\n",
      "3435         1       313     1.0       888980085\n",
      "13450        1       314     1.0       888550774\n",
      "\n",
      "[62 rows x 4 columns]\n",
      "       user_id  movie_id  rating  unix_timestamp\n",
      "710          1       291     4.0       888550774\n",
      "934          1       250     5.0       888552084\n",
      "1062         1        49     5.0       888552084\n",
      "3435         1       313     1.0       888980085\n",
      "5073         1       296     4.0       888550871\n",
      "...        ...       ...     ...             ...\n",
      "77916        1       287     3.0       888550252\n",
      "85616        1       285     4.0       888549960\n",
      "88200        1       274     5.0       888550939\n",
      "95687        1       301     5.0       888552084\n",
      "97629        1       295     3.0       888550871\n",
      "\n",
      "[62 rows x 4 columns]\n",
      "     user_id  movie_id  rating  unix_timestamp\n",
      "710        1       291     4.0       888550774\n"
     ]
    }
   ],
   "source": [
    "# see if correct\n",
    "row = movies.loc[movies['movie_id'] == '1']\n",
    "row2 = ratings.loc[ratings['user_id'] == 1]\n",
    "movie1 = row2.loc[row2['movie_id'] == 291]\n",
    "row3 = row2.sort_values('rating', ascending = False)\n",
    "print(row3)\n",
    "print(row2)\n",
    "print(movie1)"
   ]
  },
  {
   "cell_type": "markdown",
   "metadata": {
    "papermill": {
     "duration": 0.193177,
     "end_time": "2020-12-09T06:09:14.107925",
     "exception": false,
     "start_time": "2020-12-09T06:09:13.914748",
     "status": "completed"
    },
    "tags": []
   },
   "source": [
    "# Recommending a movie\n",
    "\n",
    "For only one movie a user would like recs for. "
   ]
  },
  {
   "cell_type": "markdown",
   "metadata": {
    "papermill": {
     "duration": 0.182552,
     "end_time": "2020-12-09T06:09:14.473929",
     "exception": false,
     "start_time": "2020-12-09T06:09:14.291377",
     "status": "completed"
    },
    "tags": []
   },
   "source": [
    "### For user_id = 1"
   ]
  },
  {
   "cell_type": "code",
   "execution_count": 45,
   "metadata": {
    "execution": {
     "iopub.execute_input": "2020-12-09T06:09:14.829434Z",
     "iopub.status.busy": "2020-12-09T06:09:14.828559Z",
     "iopub.status.idle": "2020-12-09T06:09:14.834583Z",
     "shell.execute_reply": "2020-12-09T06:09:14.833836Z"
    },
    "papermill": {
     "duration": 0.18671,
     "end_time": "2020-12-09T06:09:14.834702",
     "exception": false,
     "start_time": "2020-12-09T06:09:14.647992",
     "status": "completed"
    },
    "tags": []
   },
   "outputs": [
    {
     "name": "stdout",
     "output_type": "stream",
     "text": [
      "User 12 has only watched/ranked 636 out of 1682 movies total.\n",
      "Therefore, we can predict how he will rate 1046 other movies.\n"
     ]
    }
   ],
   "source": [
    "# Find unranked movies for user 1\n",
    "user_id = 12\n",
    "unranked_movies = []\n",
    "num_total_movies = 1682\n",
    "user_ratings = ratings.loc[ratings['user_id'] == user_id]\n",
    "print(f\"User {user_id} has only watched/ranked {len(user_ratings.index)} out of {num_total_movies} movies total.\")    \n",
    "print(f\"Therefore, we can predict how he will rate {num_total_movies - len(user_ratings.index)} other movies.\")"
   ]
  },
  {
   "cell_type": "code",
   "execution_count": 46,
   "metadata": {
    "execution": {
     "iopub.execute_input": "2020-12-09T06:09:15.202389Z",
     "iopub.status.busy": "2020-12-09T06:09:15.201497Z",
     "iopub.status.idle": "2020-12-09T06:09:15.205038Z",
     "shell.execute_reply": "2020-12-09T06:09:15.205622Z"
    },
    "papermill": {
     "duration": 0.193942,
     "end_time": "2020-12-09T06:09:15.205768",
     "exception": false,
     "start_time": "2020-12-09T06:09:15.011826",
     "status": "completed"
    },
    "tags": []
   },
   "outputs": [
    {
     "name": "stdout",
     "output_type": "stream",
     "text": [
      "        user_id  movie_id  rating  unix_timestamp\n",
      "73           12       525     3.0       882141053\n",
      "154          12       835     2.0       882139746\n",
      "155          12       271     4.0       884538403\n",
      "195          12        97     4.0       881515011\n",
      "215          12       359     4.0       882140926\n",
      "...         ...       ...     ...             ...\n",
      "98625        12       821     3.0       884538634\n",
      "99180        12       431     4.0       882398654\n",
      "99316        12       903     1.0       892015178\n",
      "99811        12       445     1.0       882397039\n",
      "100008       12       224     2.0       882399156\n",
      "\n",
      "[636 rows x 4 columns]\n"
     ]
    }
   ],
   "source": [
    "print(user_ratings)"
   ]
  },
  {
   "cell_type": "code",
   "execution_count": 47,
   "metadata": {
    "_kg_hide-output": false,
    "execution": {
     "iopub.execute_input": "2020-12-09T06:09:15.568918Z",
     "iopub.status.busy": "2020-12-09T06:09:15.567893Z",
     "iopub.status.idle": "2020-12-09T06:09:15.584877Z",
     "shell.execute_reply": "2020-12-09T06:09:15.585801Z"
    },
    "papermill": {
     "duration": 0.202099,
     "end_time": "2020-12-09T06:09:15.586020",
     "exception": false,
     "start_time": "2020-12-09T06:09:15.383921",
     "status": "completed"
    },
    "tags": []
   },
   "outputs": [
    {
     "name": "stdout",
     "output_type": "stream",
     "text": [
      "[525 835 271  97 359 197 214  55 343 185 497 891 228 863 900 808 822 779\n",
      " 417 857  71 180 146 867 194 806 120 307 395  65  58 149 353 330 765  13\n",
      " 319 450 492 288 487 847 143 475  96 780 337 166 569 843 684 566 876 479\n",
      " 313 914 225 547 304 917 272 839 177  41  93 907 299 179  28 507  44 819\n",
      " 508 754   1 829  63 858 624 427 912 211 167 855 318 311 859 539 613 875\n",
      "  89 262 787 781 439  87 830 314 793 301 207 420 408 909 317 897 763 813\n",
      " 386 893 340 451  24 631 415 501 160 302 436 785 611 333 352 758 189 136\n",
      " 516 887 383 242 775 529 906 231 860  47 504  20 868  60 783 456  39 350\n",
      "  72 466 442 117 538 264 853 513 751 856 614 719 886 682 268 123 801 889\n",
      " 152 342 300 596 153 600 807 704  99  70 362 390 905 229 664 344 260 815\n",
      " 500 218 715 316 616 545 435 289 280 446 693 623 884 269 865 195 270 404\n",
      " 471 609 846 651 293 587 275 519 658 172 734 482 422 481 267 401 419 804\n",
      " 413 771 811 563 518 874 376 339 184 216 650  23 672 286  26 911 200 384\n",
      " 851 237 782 348 332 873 820 681 448 827 786 449 838 595 603 588 480 476\n",
      " 515 108 430 877 677 209 523  10 841 257 378 546 756 233  88  22 434 549\n",
      " 537 668 474 888  50 328 803   3  95 837 558 236 769 562 477 871 215 799\n",
      " 522 823 462 326 671  98 784 738  82 312 461 767 605 772 199 662 349 341\n",
      " 828 685 416 854 795 826 678 528 883 879 315 154 645 688 346 553 612 356\n",
      " 190 908 320 400 552 526 842 882  94  91 291 418  78 673 848 338 584 711\n",
      " 109  67 708 169 577 403   0 653 221  12 789 620 870 800 550 794 602 636\n",
      " 483 137 116 310  11 517 850 232 660 432   6 791 790 440 913 493 832 705\n",
      " 878 192 899 564 176 441 844 687 182 739 732 731 426 327 753  90 240 638\n",
      " 393 759 849 746 193 845 429 762 354 285 866 412 768  31 203   4 331 736\n",
      " 402  16 127 470 298 666 491 637 894 656 178 635  85 735 864 655 410 567\n",
      " 223 366  32 683 649  21  38 817 572 760 669 452 814 409 774 654 890 885\n",
      " 230 156 895 305 788 278 443 796 560 761  86 630 667 691 575 509 571 162\n",
      " 163 634 345 198  66 447  81 880 222 159 438 872 484 204  49 405 472 347\n",
      " 896 831  36 757 397  69 585 263 834 770  57 686 601 629 805 674 196 454\n",
      " 306 226 506 227 747 370 322 381 110 750 238 490 530 201 749 816 505  68\n",
      " 901 689 557 273 510 151 661  61  52 861  37 210 902 910 568 287 157 369\n",
      " 309 171 721 274 776 325 745 916 496 144 852 565 261 392 126 473 321  77\n",
      " 690 423 183 173 618 773  48 915 234 825 174 164 748 764 131 818 798 766\n",
      " 778 809 437 208 186 142 503 646 862 444 548 810 241 904 175 589 361 797\n",
      " 836  59 824 898  27 670 357 840 802 279 521 335 812 881 777 514   8 217\n",
      " 869 134 755   7 284 259 524 792 115 140 181 428 187 399 540 892 628 165\n",
      " 833 821 431 903 445 224]\n",
      "[2, 5, 9, 14, 15, 17, 18, 19, 25, 29, 30, 33, 34, 35, 40, 42, 43, 45, 46, 51, 53, 54, 56, 62, 64, 73, 74, 75, 76, 79, 80, 83, 84, 92, 100, 101, 102, 103, 104, 105, 106, 107, 111, 112, 113, 114, 118, 119, 121, 122, 124, 125, 128, 129, 130, 132, 133, 135, 138, 139, 141, 145, 147, 148, 150, 155, 158, 161, 168, 170, 188, 191, 202, 205, 206, 212, 213, 219, 220, 235, 239, 243, 244, 245, 246, 247, 248, 249, 250, 251, 252, 253, 254, 255, 256, 258, 265, 266, 276, 277, 281, 282, 283, 290, 292, 294, 295, 296, 297, 303, 308, 323, 324, 329, 334, 336, 351, 355, 358, 360, 363, 364, 365, 367, 368, 371, 372, 373, 374, 375, 377, 379, 380, 382, 385, 387, 388, 389, 391, 394, 396, 398, 406, 407, 411, 414, 421, 424, 425, 433, 453, 455, 457, 458, 459, 460, 463, 464, 465, 467, 468, 469, 478, 485, 486, 488, 489, 494, 495, 498, 499, 502, 511, 512, 520, 527, 531, 532, 533, 534, 535, 536, 541, 542, 543, 544, 551, 554, 555, 556, 559, 561, 570, 573, 574, 576, 578, 579, 580, 581, 582, 583, 586, 590, 591, 592, 593, 594, 597, 598, 599, 604, 606, 607, 608, 610, 615, 617, 619, 621, 622, 625, 626, 627, 632, 633, 639, 640, 641, 642, 643, 644, 647, 648, 652, 657, 659, 663, 665, 675, 676, 679, 680, 692, 694, 695, 696, 697, 698, 699, 700, 701, 702, 703, 706, 707, 709, 710, 712, 713, 714, 716, 717, 718, 720, 722, 723, 724, 725, 726, 727, 728, 729, 730, 733, 737, 740, 741, 742, 743, 744, 752, 918, 919, 920, 921, 922, 923, 924, 925, 926, 927, 928, 929, 930, 931, 932, 933, 934, 935, 936, 937, 938, 939, 940, 941, 942, 943, 944, 945, 946, 947, 948, 949, 950, 951, 952, 953, 954, 955, 956, 957, 958, 959, 960, 961, 962, 963, 964, 965, 966, 967, 968, 969, 970, 971, 972, 973, 974, 975, 976, 977, 978, 979, 980, 981, 982, 983, 984, 985, 986, 987, 988, 989, 990, 991, 992, 993, 994, 995, 996, 997, 998, 999, 1000, 1001, 1002, 1003, 1004, 1005, 1006, 1007, 1008, 1009, 1010, 1011, 1012, 1013, 1014, 1015, 1016, 1017, 1018, 1019, 1020, 1021, 1022, 1023, 1024, 1025, 1026, 1027, 1028, 1029, 1030, 1031, 1032, 1033, 1034, 1035, 1036, 1037, 1038, 1039, 1040, 1041, 1042, 1043, 1044, 1045, 1046, 1047, 1048, 1049, 1050, 1051, 1052, 1053, 1054, 1055, 1056, 1057, 1058, 1059, 1060, 1061, 1062, 1063, 1064, 1065, 1066, 1067, 1068, 1069, 1070, 1071, 1072, 1073, 1074, 1075, 1076, 1077, 1078, 1079, 1080, 1081, 1082, 1083, 1084, 1085, 1086, 1087, 1088, 1089, 1090, 1091, 1092, 1093, 1094, 1095, 1096, 1097, 1098, 1099, 1100, 1101, 1102, 1103, 1104, 1105, 1106, 1107, 1108, 1109, 1110, 1111, 1112, 1113, 1114, 1115, 1116, 1117, 1118, 1119, 1120, 1121, 1122, 1123, 1124, 1125, 1126, 1127, 1128, 1129, 1130, 1131, 1132, 1133, 1134, 1135, 1136, 1137, 1138, 1139, 1140, 1141, 1142, 1143, 1144, 1145, 1146, 1147, 1148, 1149, 1150, 1151, 1152, 1153, 1154, 1155, 1156, 1157, 1158, 1159, 1160, 1161, 1162, 1163, 1164, 1165, 1166, 1167, 1168, 1169, 1170, 1171, 1172, 1173, 1174, 1175, 1176, 1177, 1178, 1179, 1180, 1181, 1182, 1183, 1184, 1185, 1186, 1187, 1188, 1189, 1190, 1191, 1192, 1193, 1194, 1195, 1196, 1197, 1198, 1199, 1200, 1201, 1202, 1203, 1204, 1205, 1206, 1207, 1208, 1209, 1210, 1211, 1212, 1213, 1214, 1215, 1216, 1217, 1218, 1219, 1220, 1221, 1222, 1223, 1224, 1225, 1226, 1227, 1228, 1229, 1230, 1231, 1232, 1233, 1234, 1235, 1236, 1237, 1238, 1239, 1240, 1241, 1242, 1243, 1244, 1245, 1246, 1247, 1248, 1249, 1250, 1251, 1252, 1253, 1254, 1255, 1256, 1257, 1258, 1259, 1260, 1261, 1262, 1263, 1264, 1265, 1266, 1267, 1268, 1269, 1270, 1271, 1272, 1273, 1274, 1275, 1276, 1277, 1278, 1279, 1280, 1281, 1282, 1283, 1284, 1285, 1286, 1287, 1288, 1289, 1290, 1291, 1292, 1293, 1294, 1295, 1296, 1297, 1298, 1299, 1300, 1301, 1302, 1303, 1304, 1305, 1306, 1307, 1308, 1309, 1310, 1311, 1312, 1313, 1314, 1315, 1316, 1317, 1318, 1319, 1320, 1321, 1322, 1323, 1324, 1325, 1326, 1327, 1328, 1329, 1330, 1331, 1332, 1333, 1334, 1335, 1336, 1337, 1338, 1339, 1340, 1341, 1342, 1343, 1344, 1345, 1346, 1347, 1348, 1349, 1350, 1351, 1352, 1353, 1354, 1355, 1356, 1357, 1358, 1359, 1360, 1361, 1362, 1363, 1364, 1365, 1366, 1367, 1368, 1369, 1370, 1371, 1372, 1373, 1374, 1375, 1376, 1377, 1378, 1379, 1380, 1381, 1382, 1383, 1384, 1385, 1386, 1387, 1388, 1389, 1390, 1391, 1392, 1393, 1394, 1395, 1396, 1397, 1398, 1399, 1400, 1401, 1402, 1403, 1404, 1405, 1406, 1407, 1408, 1409, 1410, 1411, 1412, 1413, 1414, 1415, 1416, 1417, 1418, 1419, 1420, 1421, 1422, 1423, 1424, 1425, 1426, 1427, 1428, 1429, 1430, 1431, 1432, 1433, 1434, 1435, 1436, 1437, 1438, 1439, 1440, 1441, 1442, 1443, 1444, 1445, 1446, 1447, 1448, 1449, 1450, 1451, 1452, 1453, 1454, 1455, 1456, 1457, 1458, 1459, 1460, 1461, 1462, 1463, 1464, 1465, 1466, 1467, 1468, 1469, 1470, 1471, 1472, 1473, 1474, 1475, 1476, 1477, 1478, 1479, 1480, 1481, 1482, 1483, 1484, 1485, 1486, 1487, 1488, 1489, 1490, 1491, 1492, 1493, 1494, 1495, 1496, 1497, 1498, 1499, 1500, 1501, 1502, 1503, 1504, 1505, 1506, 1507, 1508, 1509, 1510, 1511, 1512, 1513, 1514, 1515, 1516, 1517, 1518, 1519, 1520, 1521, 1522, 1523, 1524, 1525, 1526, 1527, 1528, 1529, 1530, 1531, 1532, 1533, 1534, 1535, 1536, 1537, 1538, 1539, 1540, 1541, 1542, 1543, 1544, 1545, 1546, 1547, 1548, 1549, 1550, 1551, 1552, 1553, 1554, 1555, 1556, 1557, 1558, 1559, 1560, 1561, 1562, 1563, 1564, 1565, 1566, 1567, 1568, 1569, 1570, 1571, 1572, 1573, 1574, 1575, 1576, 1577, 1578, 1579, 1580, 1581, 1582, 1583, 1584, 1585, 1586, 1587, 1588, 1589, 1590, 1591, 1592, 1593, 1594, 1595, 1596, 1597, 1598, 1599, 1600, 1601, 1602, 1603, 1604, 1605, 1606, 1607, 1608, 1609, 1610, 1611, 1612, 1613, 1614, 1615, 1616, 1617, 1618, 1619, 1620, 1621, 1622, 1623, 1624, 1625, 1626, 1627, 1628, 1629, 1630, 1631, 1632, 1633, 1634, 1635, 1636, 1637, 1638, 1639, 1640, 1641, 1642, 1643, 1644, 1645, 1646, 1647, 1648, 1649, 1650, 1651, 1652, 1653, 1654, 1655, 1656, 1657, 1658, 1659, 1660, 1661, 1662, 1663, 1664, 1665, 1666, 1667, 1668, 1669, 1670, 1671, 1672, 1673, 1674, 1675, 1676, 1677, 1678, 1679, 1680, 1681]\n"
     ]
    }
   ],
   "source": [
    "import random\n",
    "\n",
    "user_values = user_ratings['movie_id'].values \n",
    "print(user_values)\n",
    "for i in range(num_total_movies):\n",
    "    if i not in user_values:\n",
    "        unranked_movies.append(i)\n",
    "#random.shuffle(unranked_movies)\n",
    "#random.shuffle(unranked_movies)\n",
    "#random.shuffle(unranked_movies)\n",
    "print(unranked_movies)"
   ]
  },
  {
   "cell_type": "code",
   "execution_count": 48,
   "metadata": {
    "execution": {
     "iopub.execute_input": "2020-12-09T06:09:15.947277Z",
     "iopub.status.busy": "2020-12-09T06:09:15.946640Z",
     "iopub.status.idle": "2020-12-09T06:09:15.952759Z",
     "shell.execute_reply": "2020-12-09T06:09:15.953274Z"
    },
    "papermill": {
     "duration": 0.187443,
     "end_time": "2020-12-09T06:09:15.953412",
     "exception": false,
     "start_time": "2020-12-09T06:09:15.765969",
     "status": "completed"
    },
    "tags": []
   },
   "outputs": [],
   "source": [
    "def get_genres(row):\n",
    "    genres = []\n",
    "    \n",
    "    labels = ['movie_id', 'title', 'release_date', 'video_release_date', 'imdb_url', 'year']\n",
    "    genres_df = row.drop(columns = labels)\n",
    "    \n",
    "    for genre in genres_df.columns:\n",
    "        if genres_df[genre].iat[0] == 1:\n",
    "            genres.append(genre)\n",
    "            \n",
    "    return genres"
   ]
  },
  {
   "cell_type": "code",
   "execution_count": 49,
   "metadata": {
    "execution": {
     "iopub.execute_input": "2020-12-09T06:09:16.355133Z",
     "iopub.status.busy": "2020-12-09T06:09:16.354474Z",
     "iopub.status.idle": "2020-12-09T06:09:16.372765Z",
     "shell.execute_reply": "2020-12-09T06:09:16.373603Z"
    },
    "papermill": {
     "duration": 0.199473,
     "end_time": "2020-12-09T06:09:16.373853",
     "exception": false,
     "start_time": "2020-12-09T06:09:16.174380",
     "status": "completed"
    },
    "tags": []
   },
   "outputs": [
    {
     "name": "stdout",
     "output_type": "stream",
     "text": [
      "  movie_id             title release_date  video_release_date  \\\n",
      "0        0  Toy Story (1995)  01-Jan-1995                 NaN   \n",
      "\n",
      "                                            imdb_url  genre_unknown  Action  \\\n",
      "0  http://us.imdb.com/M/title-exact?Toy%20Story%2...              0       0   \n",
      "\n",
      "   Adventure  Animation  Children  ...  Film-Noir  Horror  Musical  Mystery  \\\n",
      "0          0          1         1  ...          0       0        0        0   \n",
      "\n",
      "   Romance  Sci-Fi  Thriller  War  Western  year  \n",
      "0        0       0         0    0        0  1995  \n",
      "\n",
      "[1 rows x 25 columns]\n",
      "['Animation', 'Children', 'Comedy']\n"
     ]
    }
   ],
   "source": [
    "title_row = movies.loc[movies['movie_id'] == str(0)]\n",
    "print(title_row)\n",
    "genres = get_genres(title_row)\n",
    "print(genres)"
   ]
  },
  {
   "cell_type": "code",
   "execution_count": 50,
   "metadata": {
    "execution": {
     "iopub.execute_input": "2020-12-09T06:09:16.733398Z",
     "iopub.status.busy": "2020-12-09T06:09:16.732677Z",
     "iopub.status.idle": "2020-12-09T06:09:16.749623Z",
     "shell.execute_reply": "2020-12-09T06:09:16.749028Z"
    },
    "papermill": {
     "duration": 0.19789,
     "end_time": "2020-12-09T06:09:16.749747",
     "exception": false,
     "start_time": "2020-12-09T06:09:16.551857",
     "status": "completed"
    },
    "tags": []
   },
   "outputs": [],
   "source": [
    "# Predict only the first 15 movies\n",
    "def find_movie_recs(movies_to_rec, movies_df, curr_user):\n",
    "    to_predict = movies_to_rec[:100]\n",
    "    titles = []\n",
    "    enjoyment = []\n",
    "    genres = []\n",
    "\n",
    "    for movie in to_predict:\n",
    "        prediction = nn_model.predict([[np.array([[curr_user]]), np.array([[movie]])]])\n",
    "        rating = prediction[0][4]\n",
    "        enjoyment.append(rating)\n",
    "        title_row = movies_df.loc[movies_df['movie_id'] == str(movie)]\n",
    "        title = title_row.iloc[0]['title']\n",
    "        titles.append(title)\n",
    "        genres.append(get_genres(title_row))\n",
    "        \n",
    "    d = {'title': titles, 'enjoyment': enjoyment, 'genres': genres}\n",
    "    recs = pd.DataFrame(data = d)\n",
    "    return recs\n",
    "\n",
    "def raw_ratings(movies_to_rec, movies_df, user_id):\n",
    "    to_predict = movies_to_rec[:15]\n",
    "    print(to_predict)\n",
    "    titles = []\n",
    "    enjoyment = []\n",
    "    raw_preds = []\n",
    "\n",
    "    for movie in to_predict:\n",
    "        prediction = nn_model.predict([[np.array([[user_id]]), np.array([[movie]])]])\n",
    "        preds = prediction[0].tolist()\n",
    "        raw_preds.append(preds)\n",
    "        print(raw_preds)\n",
    "        \n",
    "        #find actual rating class\n",
    "        rating = preds.index(max(preds)) + 1\n",
    "        \n",
    "        enjoyment.append(rating)\n",
    "        title_row = movies_df.loc[movies_df['movie_id'] == str(movie)]\n",
    "        title = title_row.iloc[0]['title']\n",
    "        titles.append(title)\n",
    "        \n",
    "    d = {'movie_id': to_predict, 'title': titles, 'raw': raw_preds, 'rating': enjoyment}\n",
    "    recs = pd.DataFrame(data = d)\n",
    "    return recs"
   ]
  },
  {
   "cell_type": "code",
   "execution_count": 51,
   "metadata": {
    "execution": {
     "iopub.execute_input": "2020-12-09T06:09:17.113136Z",
     "iopub.status.busy": "2020-12-09T06:09:17.112270Z",
     "iopub.status.idle": "2020-12-09T06:09:17.142669Z",
     "shell.execute_reply": "2020-12-09T06:09:17.142087Z"
    },
    "papermill": {
     "duration": 0.216951,
     "end_time": "2020-12-09T06:09:17.142778",
     "exception": false,
     "start_time": "2020-12-09T06:09:16.925827",
     "status": "completed"
    },
    "tags": []
   },
   "outputs": [
    {
     "data": {
      "text/html": [
       "<div>\n",
       "<style scoped>\n",
       "    .dataframe tbody tr th:only-of-type {\n",
       "        vertical-align: middle;\n",
       "    }\n",
       "\n",
       "    .dataframe tbody tr th {\n",
       "        vertical-align: top;\n",
       "    }\n",
       "\n",
       "    .dataframe thead th {\n",
       "        text-align: right;\n",
       "    }\n",
       "</style>\n",
       "<table border=\"1\" class=\"dataframe\">\n",
       "  <thead>\n",
       "    <tr style=\"text-align: right;\">\n",
       "      <th></th>\n",
       "      <th>movie_id</th>\n",
       "      <th>title</th>\n",
       "      <th>release_date</th>\n",
       "      <th>video_release_date</th>\n",
       "      <th>imdb_url</th>\n",
       "      <th>genre_unknown</th>\n",
       "      <th>Action</th>\n",
       "      <th>Adventure</th>\n",
       "      <th>Animation</th>\n",
       "      <th>Children</th>\n",
       "      <th>...</th>\n",
       "      <th>Film-Noir</th>\n",
       "      <th>Horror</th>\n",
       "      <th>Musical</th>\n",
       "      <th>Mystery</th>\n",
       "      <th>Romance</th>\n",
       "      <th>Sci-Fi</th>\n",
       "      <th>Thriller</th>\n",
       "      <th>War</th>\n",
       "      <th>Western</th>\n",
       "      <th>year</th>\n",
       "    </tr>\n",
       "  </thead>\n",
       "  <tbody>\n",
       "    <tr>\n",
       "      <th>244</th>\n",
       "      <td>244</td>\n",
       "      <td>Devil's Own, The (1997)</td>\n",
       "      <td>26-Mar-1997</td>\n",
       "      <td>NaN</td>\n",
       "      <td>http://us.imdb.com/M/title-exact?Devil%27s%20O...</td>\n",
       "      <td>0</td>\n",
       "      <td>1</td>\n",
       "      <td>0</td>\n",
       "      <td>0</td>\n",
       "      <td>0</td>\n",
       "      <td>...</td>\n",
       "      <td>0</td>\n",
       "      <td>0</td>\n",
       "      <td>0</td>\n",
       "      <td>0</td>\n",
       "      <td>0</td>\n",
       "      <td>0</td>\n",
       "      <td>1</td>\n",
       "      <td>1</td>\n",
       "      <td>0</td>\n",
       "      <td>1997</td>\n",
       "    </tr>\n",
       "    <tr>\n",
       "      <th>630</th>\n",
       "      <td>630</td>\n",
       "      <td>Crying Game, The (1992)</td>\n",
       "      <td>01-Jan-1992</td>\n",
       "      <td>NaN</td>\n",
       "      <td>http://us.imdb.com/M/title-exact?Crying%20Game...</td>\n",
       "      <td>0</td>\n",
       "      <td>1</td>\n",
       "      <td>0</td>\n",
       "      <td>0</td>\n",
       "      <td>0</td>\n",
       "      <td>...</td>\n",
       "      <td>0</td>\n",
       "      <td>0</td>\n",
       "      <td>0</td>\n",
       "      <td>0</td>\n",
       "      <td>1</td>\n",
       "      <td>0</td>\n",
       "      <td>0</td>\n",
       "      <td>1</td>\n",
       "      <td>0</td>\n",
       "      <td>1992</td>\n",
       "    </tr>\n",
       "    <tr>\n",
       "      <th>1414</th>\n",
       "      <td>1414</td>\n",
       "      <td>Next Karate Kid, The (1994)</td>\n",
       "      <td>01-Jan-1994</td>\n",
       "      <td>NaN</td>\n",
       "      <td>http://us.imdb.com/M/title-exact?Next%20Karate...</td>\n",
       "      <td>0</td>\n",
       "      <td>1</td>\n",
       "      <td>0</td>\n",
       "      <td>0</td>\n",
       "      <td>1</td>\n",
       "      <td>...</td>\n",
       "      <td>0</td>\n",
       "      <td>0</td>\n",
       "      <td>0</td>\n",
       "      <td>0</td>\n",
       "      <td>0</td>\n",
       "      <td>0</td>\n",
       "      <td>0</td>\n",
       "      <td>0</td>\n",
       "      <td>0</td>\n",
       "      <td>1994</td>\n",
       "    </tr>\n",
       "    <tr>\n",
       "      <th>219</th>\n",
       "      <td>219</td>\n",
       "      <td>Mirror Has Two Faces, The (1996)</td>\n",
       "      <td>15-Nov-1996</td>\n",
       "      <td>NaN</td>\n",
       "      <td>http://us.imdb.com/M/title-exact?Mirror%20Has%...</td>\n",
       "      <td>0</td>\n",
       "      <td>0</td>\n",
       "      <td>0</td>\n",
       "      <td>0</td>\n",
       "      <td>0</td>\n",
       "      <td>...</td>\n",
       "      <td>0</td>\n",
       "      <td>0</td>\n",
       "      <td>0</td>\n",
       "      <td>0</td>\n",
       "      <td>1</td>\n",
       "      <td>0</td>\n",
       "      <td>0</td>\n",
       "      <td>0</td>\n",
       "      <td>0</td>\n",
       "      <td>1996</td>\n",
       "    </tr>\n",
       "    <tr>\n",
       "      <th>1609</th>\n",
       "      <td>1609</td>\n",
       "      <td>Truth or Consequences, N.M. (1997)</td>\n",
       "      <td>02-May-1997</td>\n",
       "      <td>NaN</td>\n",
       "      <td>http://us.imdb.com/Title?Truth+or+Consequences...</td>\n",
       "      <td>0</td>\n",
       "      <td>1</td>\n",
       "      <td>0</td>\n",
       "      <td>0</td>\n",
       "      <td>0</td>\n",
       "      <td>...</td>\n",
       "      <td>0</td>\n",
       "      <td>0</td>\n",
       "      <td>0</td>\n",
       "      <td>0</td>\n",
       "      <td>1</td>\n",
       "      <td>0</td>\n",
       "      <td>0</td>\n",
       "      <td>0</td>\n",
       "      <td>0</td>\n",
       "      <td>1997</td>\n",
       "    </tr>\n",
       "    <tr>\n",
       "      <th>...</th>\n",
       "      <td>...</td>\n",
       "      <td>...</td>\n",
       "      <td>...</td>\n",
       "      <td>...</td>\n",
       "      <td>...</td>\n",
       "      <td>...</td>\n",
       "      <td>...</td>\n",
       "      <td>...</td>\n",
       "      <td>...</td>\n",
       "      <td>...</td>\n",
       "      <td>...</td>\n",
       "      <td>...</td>\n",
       "      <td>...</td>\n",
       "      <td>...</td>\n",
       "      <td>...</td>\n",
       "      <td>...</td>\n",
       "      <td>...</td>\n",
       "      <td>...</td>\n",
       "      <td>...</td>\n",
       "      <td>...</td>\n",
       "      <td>...</td>\n",
       "    </tr>\n",
       "    <tr>\n",
       "      <th>62</th>\n",
       "      <td>62</td>\n",
       "      <td>Santa Clause, The (1994)</td>\n",
       "      <td>01-Jan-1994</td>\n",
       "      <td>NaN</td>\n",
       "      <td>http://us.imdb.com/M/title-exact?Santa%20Claus...</td>\n",
       "      <td>0</td>\n",
       "      <td>0</td>\n",
       "      <td>0</td>\n",
       "      <td>0</td>\n",
       "      <td>1</td>\n",
       "      <td>...</td>\n",
       "      <td>0</td>\n",
       "      <td>0</td>\n",
       "      <td>0</td>\n",
       "      <td>0</td>\n",
       "      <td>0</td>\n",
       "      <td>0</td>\n",
       "      <td>0</td>\n",
       "      <td>0</td>\n",
       "      <td>0</td>\n",
       "      <td>1994</td>\n",
       "    </tr>\n",
       "    <tr>\n",
       "      <th>115</th>\n",
       "      <td>115</td>\n",
       "      <td>Cold Comfort Farm (1995)</td>\n",
       "      <td>23-Apr-1996</td>\n",
       "      <td>NaN</td>\n",
       "      <td>http://us.imdb.com/M/title-exact?Cold%20Comfor...</td>\n",
       "      <td>0</td>\n",
       "      <td>0</td>\n",
       "      <td>0</td>\n",
       "      <td>0</td>\n",
       "      <td>0</td>\n",
       "      <td>...</td>\n",
       "      <td>0</td>\n",
       "      <td>0</td>\n",
       "      <td>0</td>\n",
       "      <td>0</td>\n",
       "      <td>0</td>\n",
       "      <td>0</td>\n",
       "      <td>0</td>\n",
       "      <td>0</td>\n",
       "      <td>0</td>\n",
       "      <td>1996</td>\n",
       "    </tr>\n",
       "    <tr>\n",
       "      <th>525</th>\n",
       "      <td>525</td>\n",
       "      <td>Ben-Hur (1959)</td>\n",
       "      <td>01-Jan-1959</td>\n",
       "      <td>NaN</td>\n",
       "      <td>http://us.imdb.com/M/title-exact?Ben-Hur%20(1959)</td>\n",
       "      <td>0</td>\n",
       "      <td>1</td>\n",
       "      <td>1</td>\n",
       "      <td>0</td>\n",
       "      <td>0</td>\n",
       "      <td>...</td>\n",
       "      <td>0</td>\n",
       "      <td>0</td>\n",
       "      <td>0</td>\n",
       "      <td>0</td>\n",
       "      <td>0</td>\n",
       "      <td>0</td>\n",
       "      <td>0</td>\n",
       "      <td>0</td>\n",
       "      <td>0</td>\n",
       "      <td>1959</td>\n",
       "    </tr>\n",
       "    <tr>\n",
       "      <th>839</th>\n",
       "      <td>839</td>\n",
       "      <td>Last Man Standing (1996)</td>\n",
       "      <td>20-Sep-1996</td>\n",
       "      <td>NaN</td>\n",
       "      <td>http://us.imdb.com/M/title-exact?Last%20Man%20...</td>\n",
       "      <td>0</td>\n",
       "      <td>1</td>\n",
       "      <td>0</td>\n",
       "      <td>0</td>\n",
       "      <td>0</td>\n",
       "      <td>...</td>\n",
       "      <td>0</td>\n",
       "      <td>0</td>\n",
       "      <td>0</td>\n",
       "      <td>0</td>\n",
       "      <td>0</td>\n",
       "      <td>0</td>\n",
       "      <td>0</td>\n",
       "      <td>0</td>\n",
       "      <td>1</td>\n",
       "      <td>1996</td>\n",
       "    </tr>\n",
       "    <tr>\n",
       "      <th>180</th>\n",
       "      <td>180</td>\n",
       "      <td>Return of the Jedi (1983)</td>\n",
       "      <td>14-Mar-1997</td>\n",
       "      <td>NaN</td>\n",
       "      <td>http://us.imdb.com/M/title-exact?Return%20of%2...</td>\n",
       "      <td>0</td>\n",
       "      <td>1</td>\n",
       "      <td>1</td>\n",
       "      <td>0</td>\n",
       "      <td>0</td>\n",
       "      <td>...</td>\n",
       "      <td>0</td>\n",
       "      <td>0</td>\n",
       "      <td>0</td>\n",
       "      <td>0</td>\n",
       "      <td>1</td>\n",
       "      <td>1</td>\n",
       "      <td>0</td>\n",
       "      <td>1</td>\n",
       "      <td>0</td>\n",
       "      <td>1997</td>\n",
       "    </tr>\n",
       "  </tbody>\n",
       "</table>\n",
       "<p>1682 rows × 25 columns</p>\n",
       "</div>"
      ],
      "text/plain": [
       "     movie_id                               title release_date  \\\n",
       "244       244             Devil's Own, The (1997)  26-Mar-1997   \n",
       "630       630             Crying Game, The (1992)  01-Jan-1992   \n",
       "1414     1414         Next Karate Kid, The (1994)  01-Jan-1994   \n",
       "219       219    Mirror Has Two Faces, The (1996)  15-Nov-1996   \n",
       "1609     1609  Truth or Consequences, N.M. (1997)  02-May-1997   \n",
       "...       ...                                 ...          ...   \n",
       "62         62            Santa Clause, The (1994)  01-Jan-1994   \n",
       "115       115            Cold Comfort Farm (1995)  23-Apr-1996   \n",
       "525       525                      Ben-Hur (1959)  01-Jan-1959   \n",
       "839       839            Last Man Standing (1996)  20-Sep-1996   \n",
       "180       180           Return of the Jedi (1983)  14-Mar-1997   \n",
       "\n",
       "      video_release_date                                           imdb_url  \\\n",
       "244                  NaN  http://us.imdb.com/M/title-exact?Devil%27s%20O...   \n",
       "630                  NaN  http://us.imdb.com/M/title-exact?Crying%20Game...   \n",
       "1414                 NaN  http://us.imdb.com/M/title-exact?Next%20Karate...   \n",
       "219                  NaN  http://us.imdb.com/M/title-exact?Mirror%20Has%...   \n",
       "1609                 NaN  http://us.imdb.com/Title?Truth+or+Consequences...   \n",
       "...                  ...                                                ...   \n",
       "62                   NaN  http://us.imdb.com/M/title-exact?Santa%20Claus...   \n",
       "115                  NaN  http://us.imdb.com/M/title-exact?Cold%20Comfor...   \n",
       "525                  NaN  http://us.imdb.com/M/title-exact?Ben-Hur%20(1959)   \n",
       "839                  NaN  http://us.imdb.com/M/title-exact?Last%20Man%20...   \n",
       "180                  NaN  http://us.imdb.com/M/title-exact?Return%20of%2...   \n",
       "\n",
       "      genre_unknown  Action  Adventure  Animation  Children  ...  Film-Noir  \\\n",
       "244               0       1          0          0         0  ...          0   \n",
       "630               0       1          0          0         0  ...          0   \n",
       "1414              0       1          0          0         1  ...          0   \n",
       "219               0       0          0          0         0  ...          0   \n",
       "1609              0       1          0          0         0  ...          0   \n",
       "...             ...     ...        ...        ...       ...  ...        ...   \n",
       "62                0       0          0          0         1  ...          0   \n",
       "115               0       0          0          0         0  ...          0   \n",
       "525               0       1          1          0         0  ...          0   \n",
       "839               0       1          0          0         0  ...          0   \n",
       "180               0       1          1          0         0  ...          0   \n",
       "\n",
       "      Horror  Musical  Mystery  Romance  Sci-Fi  Thriller  War  Western  year  \n",
       "244        0        0        0        0       0         1    1        0  1997  \n",
       "630        0        0        0        1       0         0    1        0  1992  \n",
       "1414       0        0        0        0       0         0    0        0  1994  \n",
       "219        0        0        0        1       0         0    0        0  1996  \n",
       "1609       0        0        0        1       0         0    0        0  1997  \n",
       "...      ...      ...      ...      ...     ...       ...  ...      ...   ...  \n",
       "62         0        0        0        0       0         0    0        0  1994  \n",
       "115        0        0        0        0       0         0    0        0  1996  \n",
       "525        0        0        0        0       0         0    0        0  1959  \n",
       "839        0        0        0        0       0         0    0        1  1996  \n",
       "180        0        0        0        1       1         0    1        0  1997  \n",
       "\n",
       "[1682 rows x 25 columns]"
      ]
     },
     "execution_count": 51,
     "metadata": {},
     "output_type": "execute_result"
    }
   ],
   "source": [
    "movies.sample(frac = 1)"
   ]
  },
  {
   "cell_type": "code",
   "execution_count": 52,
   "metadata": {
    "execution": {
     "iopub.execute_input": "2020-12-09T06:09:17.506754Z",
     "iopub.status.busy": "2020-12-09T06:09:17.506056Z",
     "iopub.status.idle": "2020-12-09T06:09:17.530275Z",
     "shell.execute_reply": "2020-12-09T06:09:17.529643Z"
    },
    "papermill": {
     "duration": 0.208314,
     "end_time": "2020-12-09T06:09:17.530402",
     "exception": false,
     "start_time": "2020-12-09T06:09:17.322088",
     "status": "completed"
    },
    "tags": []
   },
   "outputs": [
    {
     "name": "stdout",
     "output_type": "stream",
     "text": [
      "[0, 1, 3, 4, 6, 7, 8, 10, 11, 12, 13, 16, 20, 21, 22]\n"
     ]
    }
   ],
   "source": [
    "# Check and see if model matches user's previous ratings\n",
    "rated_movies = []\n",
    "for i in range(num_total_movies):\n",
    "    if i in user_ratings['movie_id'].values:\n",
    "        rated_movies.append(i)\n",
    "print(rated_movies[:15])"
   ]
  },
  {
   "cell_type": "code",
   "execution_count": 53,
   "metadata": {
    "execution": {
     "iopub.execute_input": "2020-12-09T06:09:17.892528Z",
     "iopub.status.busy": "2020-12-09T06:09:17.891886Z",
     "iopub.status.idle": "2020-12-09T06:09:17.894877Z",
     "shell.execute_reply": "2020-12-09T06:09:17.894354Z"
    },
    "papermill": {
     "duration": 0.186932,
     "end_time": "2020-12-09T06:09:17.895003",
     "exception": false,
     "start_time": "2020-12-09T06:09:17.708071",
     "status": "completed"
    },
    "tags": []
   },
   "outputs": [],
   "source": [
    "#already_watched = raw_ratings(rated_movies, movies)\n"
   ]
  },
  {
   "cell_type": "code",
   "execution_count": 54,
   "metadata": {
    "execution": {
     "iopub.execute_input": "2020-12-09T06:09:18.266807Z",
     "iopub.status.busy": "2020-12-09T06:09:18.266172Z",
     "iopub.status.idle": "2020-12-09T06:09:18.269344Z",
     "shell.execute_reply": "2020-12-09T06:09:18.269832Z"
    },
    "papermill": {
     "duration": 0.195889,
     "end_time": "2020-12-09T06:09:18.269979",
     "exception": false,
     "start_time": "2020-12-09T06:09:18.074090",
     "status": "completed"
    },
    "tags": []
   },
   "outputs": [
    {
     "data": {
      "text/html": [
       "<div>\n",
       "<style scoped>\n",
       "    .dataframe tbody tr th:only-of-type {\n",
       "        vertical-align: middle;\n",
       "    }\n",
       "\n",
       "    .dataframe tbody tr th {\n",
       "        vertical-align: top;\n",
       "    }\n",
       "\n",
       "    .dataframe thead th {\n",
       "        text-align: right;\n",
       "    }\n",
       "</style>\n",
       "<table border=\"1\" class=\"dataframe\">\n",
       "  <thead>\n",
       "    <tr style=\"text-align: right;\">\n",
       "      <th></th>\n",
       "      <th>user_id</th>\n",
       "      <th>movie_id</th>\n",
       "      <th>rating</th>\n",
       "      <th>unix_timestamp</th>\n",
       "    </tr>\n",
       "  </thead>\n",
       "  <tbody>\n",
       "    <tr>\n",
       "      <th>42969</th>\n",
       "      <td>1</td>\n",
       "      <td>310</td>\n",
       "      <td>5.0</td>\n",
       "      <td>888552084</td>\n",
       "    </tr>\n",
       "    <tr>\n",
       "      <th>76014</th>\n",
       "      <td>1</td>\n",
       "      <td>271</td>\n",
       "      <td>5.0</td>\n",
       "      <td>888979061</td>\n",
       "    </tr>\n",
       "    <tr>\n",
       "      <th>24022</th>\n",
       "      <td>1</td>\n",
       "      <td>241</td>\n",
       "      <td>5.0</td>\n",
       "      <td>888552084</td>\n",
       "    </tr>\n",
       "    <tr>\n",
       "      <th>25226</th>\n",
       "      <td>1</td>\n",
       "      <td>282</td>\n",
       "      <td>5.0</td>\n",
       "      <td>888552084</td>\n",
       "    </tr>\n",
       "    <tr>\n",
       "      <th>59524</th>\n",
       "      <td>1</td>\n",
       "      <td>126</td>\n",
       "      <td>5.0</td>\n",
       "      <td>888552084</td>\n",
       "    </tr>\n",
       "    <tr>\n",
       "      <th>59833</th>\n",
       "      <td>1</td>\n",
       "      <td>284</td>\n",
       "      <td>5.0</td>\n",
       "      <td>888552084</td>\n",
       "    </tr>\n",
       "    <tr>\n",
       "      <th>934</th>\n",
       "      <td>1</td>\n",
       "      <td>250</td>\n",
       "      <td>5.0</td>\n",
       "      <td>888552084</td>\n",
       "    </tr>\n",
       "    <tr>\n",
       "      <th>16208</th>\n",
       "      <td>1</td>\n",
       "      <td>312</td>\n",
       "      <td>5.0</td>\n",
       "      <td>888552084</td>\n",
       "    </tr>\n",
       "    <tr>\n",
       "      <th>12160</th>\n",
       "      <td>1</td>\n",
       "      <td>315</td>\n",
       "      <td>5.0</td>\n",
       "      <td>888979693</td>\n",
       "    </tr>\n",
       "    <tr>\n",
       "      <th>55800</th>\n",
       "      <td>1</td>\n",
       "      <td>99</td>\n",
       "      <td>5.0</td>\n",
       "      <td>888552084</td>\n",
       "    </tr>\n",
       "    <tr>\n",
       "      <th>88200</th>\n",
       "      <td>1</td>\n",
       "      <td>274</td>\n",
       "      <td>5.0</td>\n",
       "      <td>888550939</td>\n",
       "    </tr>\n",
       "    <tr>\n",
       "      <th>95687</th>\n",
       "      <td>1</td>\n",
       "      <td>301</td>\n",
       "      <td>5.0</td>\n",
       "      <td>888552084</td>\n",
       "    </tr>\n",
       "    <tr>\n",
       "      <th>1062</th>\n",
       "      <td>1</td>\n",
       "      <td>49</td>\n",
       "      <td>5.0</td>\n",
       "      <td>888552084</td>\n",
       "    </tr>\n",
       "    <tr>\n",
       "      <th>35991</th>\n",
       "      <td>1</td>\n",
       "      <td>309</td>\n",
       "      <td>4.0</td>\n",
       "      <td>888979061</td>\n",
       "    </tr>\n",
       "    <tr>\n",
       "      <th>46021</th>\n",
       "      <td>1</td>\n",
       "      <td>283</td>\n",
       "      <td>4.0</td>\n",
       "      <td>888552017</td>\n",
       "    </tr>\n",
       "  </tbody>\n",
       "</table>\n",
       "</div>"
      ],
      "text/plain": [
       "       user_id  movie_id  rating  unix_timestamp\n",
       "42969        1       310     5.0       888552084\n",
       "76014        1       271     5.0       888979061\n",
       "24022        1       241     5.0       888552084\n",
       "25226        1       282     5.0       888552084\n",
       "59524        1       126     5.0       888552084\n",
       "59833        1       284     5.0       888552084\n",
       "934          1       250     5.0       888552084\n",
       "16208        1       312     5.0       888552084\n",
       "12160        1       315     5.0       888979693\n",
       "55800        1        99     5.0       888552084\n",
       "88200        1       274     5.0       888550939\n",
       "95687        1       301     5.0       888552084\n",
       "1062         1        49     5.0       888552084\n",
       "35991        1       309     4.0       888979061\n",
       "46021        1       283     4.0       888552017"
      ]
     },
     "execution_count": 54,
     "metadata": {},
     "output_type": "execute_result"
    }
   ],
   "source": [
    "row3.head(15)"
   ]
  },
  {
   "cell_type": "markdown",
   "metadata": {
    "papermill": {
     "duration": 0.177605,
     "end_time": "2020-12-09T06:09:18.626583",
     "exception": false,
     "start_time": "2020-12-09T06:09:18.448978",
     "status": "completed"
    },
    "tags": []
   },
   "source": [
    "### The top 15 movies we recommend:"
   ]
  },
  {
   "cell_type": "code",
   "execution_count": 55,
   "metadata": {
    "execution": {
     "iopub.execute_input": "2020-12-09T06:09:18.987277Z",
     "iopub.status.busy": "2020-12-09T06:09:18.986664Z",
     "iopub.status.idle": "2020-12-09T06:09:23.180519Z",
     "shell.execute_reply": "2020-12-09T06:09:23.180989Z"
    },
    "papermill": {
     "duration": 4.375679,
     "end_time": "2020-12-09T06:09:23.181139",
     "exception": false,
     "start_time": "2020-12-09T06:09:18.805460",
     "status": "completed"
    },
    "scrolled": true,
    "tags": []
   },
   "outputs": [
    {
     "name": "stdout",
     "output_type": "stream",
     "text": [
      "                                                title  enjoyment  \\\n",
      "44  Wallace & Gromit: The Best of Aardman Animatio...   0.560477   \n",
      "68                         Wrong Trousers, The (1993)   0.559396   \n",
      "56                                Citizen Kane (1941)   0.489164   \n",
      "71                                 Raging Bull (1980)   0.417303   \n",
      "46             Maya Lin: A Strong Clear Vision (1994)   0.408827   \n",
      "..                                                ...        ...   \n",
      "29                        Hot Shots! Part Deux (1993)   0.028457   \n",
      "47                                  Striptease (1996)   0.020752   \n",
      "38                                  Sgt. Bilko (1996)   0.010656   \n",
      "36                     All Dogs Go to Heaven 2 (1996)   0.008746   \n",
      "13                                    Mad Love (1995)   0.006243   \n",
      "\n",
      "                            genres  \n",
      "44                     [Animation]  \n",
      "68             [Animation, Comedy]  \n",
      "56                         [Drama]  \n",
      "71                         [Drama]  \n",
      "46                   [Documentary]  \n",
      "..                             ...  \n",
      "29           [Action, Comedy, War]  \n",
      "47                 [Comedy, Crime]  \n",
      "38                        [Comedy]  \n",
      "36  [Animation, Children, Musical]  \n",
      "13                [Drama, Romance]  \n",
      "\n",
      "[100 rows x 3 columns]\n"
     ]
    }
   ],
   "source": [
    "recs = find_movie_recs(unranked_movies, movies, user_id)\n",
    "recs = recs.sort_values('enjoyment', ascending = False)\n",
    "print(recs)"
   ]
  },
  {
   "cell_type": "code",
   "execution_count": 56,
   "metadata": {
    "execution": {
     "iopub.execute_input": "2020-12-09T06:09:23.544370Z",
     "iopub.status.busy": "2020-12-09T06:09:23.543585Z",
     "iopub.status.idle": "2020-12-09T06:09:23.546206Z",
     "shell.execute_reply": "2020-12-09T06:09:23.546713Z"
    },
    "papermill": {
     "duration": 0.186738,
     "end_time": "2020-12-09T06:09:23.546843",
     "exception": false,
     "start_time": "2020-12-09T06:09:23.360105",
     "status": "completed"
    },
    "tags": []
   },
   "outputs": [
    {
     "data": {
      "text/plain": [
       "<matplotlib.axes._subplots.AxesSubplot at 0x7fe2094d4f70>"
      ]
     },
     "execution_count": 56,
     "metadata": {},
     "output_type": "execute_result"
    },
    {
     "data": {
      "image/png": "[encoded data removed]",
      "text/plain": [
       "<Figure size 432x288 with 1 Axes>"
      ]
     },
     "metadata": {
      "needs_background": "light"
     },
     "output_type": "display_data"
    }
   ],
   "source": [
    "recs['genres'].value_counts().plot.bar()"
   ]
  }
 ],
 "metadata": {
  "kernelspec": {
   "display_name": "Python 3",
   "language": "python",
   "name": "python3"
  },
  "language_info": {
   "codemirror_mode": {
    "name": "ipython",
    "version": 3
   },
   "file_extension": ".py",
   "mimetype": "text/x-python",
   "name": "python",
   "nbconvert_exporter": "python",
   "pygments_lexer": "ipython3",
   "version": "3.8.3"
  },
  "papermill": {
   "duration": 51.844223,
   "end_time": "2020-12-09T06:09:23.833631",
   "environment_variables": {},
   "exception": null,
   "input_path": "__notebook__.ipynb",
   "output_path": "__notebook__.ipynb",
   "parameters": {},
   "start_time": "2020-12-09T06:08:31.989408",
   "version": "2.1.0"
  }
 },
 "nbformat": 4,
 "nbformat_minor": 4
}
